{
 "cells": [
  {
   "cell_type": "code",
   "execution_count": 1,
   "metadata": {},
   "outputs": [],
   "source": [
    "import warnings\n",
    "warnings.filterwarnings('ignore')\n",
    "import pandas as pd\n",
    "import numpy as np\n",
    "import matplotlib.pyplot as plt \n",
    "from sklearn.preprocessing import LabelEncoder as LE\n",
    "from sklearn.model_selection import train_test_split \n",
    "from sklearn.linear_model import LinearRegression\n",
    "from sklearn.metrics import mean_squared_log_error"
   ]
  },
  {
   "cell_type": "code",
   "execution_count": 2,
   "metadata": {},
   "outputs": [
    {
     "data": {
      "text/html": [
       "<div>\n",
       "<style scoped>\n",
       "    .dataframe tbody tr th:only-of-type {\n",
       "        vertical-align: middle;\n",
       "    }\n",
       "\n",
       "    .dataframe tbody tr th {\n",
       "        vertical-align: top;\n",
       "    }\n",
       "\n",
       "    .dataframe thead th {\n",
       "        text-align: right;\n",
       "    }\n",
       "</style>\n",
       "<table border=\"2\" class=\"dataframe\">\n",
       "  <thead>\n",
       "    <tr style=\"text-align: right;\">\n",
       "      <th></th>\n",
       "      <th>PRT_ID</th>\n",
       "      <th>AREA</th>\n",
       "      <th>INT_SQFT</th>\n",
       "      <th>DIST_MAINROAD</th>\n",
       "      <th>N_BEDROOM</th>\n",
       "      <th>N_BATHROOM</th>\n",
       "      <th>N_ROOM</th>\n",
       "      <th>SALE_COND</th>\n",
       "      <th>PARK_FACIL</th>\n",
       "      <th>BUILDTYPE</th>\n",
       "      <th>UTILITY_AVAIL</th>\n",
       "      <th>STREET</th>\n",
       "      <th>MZZONE</th>\n",
       "      <th>QS_ROOMS</th>\n",
       "      <th>QS_BATHROOM</th>\n",
       "      <th>QS_BEDROOM</th>\n",
       "      <th>QS_OVERALL</th>\n",
       "      <th>COMMIS</th>\n",
       "      <th>SALES_PRICE</th>\n",
       "    </tr>\n",
       "  </thead>\n",
       "  <tbody>\n",
       "    <tr>\n",
       "      <td>0</td>\n",
       "      <td>P03210</td>\n",
       "      <td>Karapakkam</td>\n",
       "      <td>1004</td>\n",
       "      <td>131</td>\n",
       "      <td>1.0</td>\n",
       "      <td>1.0</td>\n",
       "      <td>3</td>\n",
       "      <td>AbNormal</td>\n",
       "      <td>Yes</td>\n",
       "      <td>Commercials</td>\n",
       "      <td>AllPub</td>\n",
       "      <td>Paved</td>\n",
       "      <td>A</td>\n",
       "      <td>4.0</td>\n",
       "      <td>3.9</td>\n",
       "      <td>4.9</td>\n",
       "      <td>4.330</td>\n",
       "      <td>144400</td>\n",
       "      <td>7600000</td>\n",
       "    </tr>\n",
       "    <tr>\n",
       "      <td>1</td>\n",
       "      <td>P09411</td>\n",
       "      <td>Anna Nagar</td>\n",
       "      <td>1986</td>\n",
       "      <td>26</td>\n",
       "      <td>2.0</td>\n",
       "      <td>1.0</td>\n",
       "      <td>5</td>\n",
       "      <td>AbNormal</td>\n",
       "      <td>No</td>\n",
       "      <td>Commercial</td>\n",
       "      <td>AllPub</td>\n",
       "      <td>Gravel</td>\n",
       "      <td>RH</td>\n",
       "      <td>4.9</td>\n",
       "      <td>4.2</td>\n",
       "      <td>2.5</td>\n",
       "      <td>3.765</td>\n",
       "      <td>304049</td>\n",
       "      <td>21717770</td>\n",
       "    </tr>\n",
       "    <tr>\n",
       "      <td>2</td>\n",
       "      <td>P01812</td>\n",
       "      <td>Adyar</td>\n",
       "      <td>909</td>\n",
       "      <td>70</td>\n",
       "      <td>1.0</td>\n",
       "      <td>1.0</td>\n",
       "      <td>3</td>\n",
       "      <td>AbNormal</td>\n",
       "      <td>Yes</td>\n",
       "      <td>Commercial</td>\n",
       "      <td>ELO</td>\n",
       "      <td>Gravel</td>\n",
       "      <td>RL</td>\n",
       "      <td>4.1</td>\n",
       "      <td>3.8</td>\n",
       "      <td>2.2</td>\n",
       "      <td>3.090</td>\n",
       "      <td>92114</td>\n",
       "      <td>13159200</td>\n",
       "    </tr>\n",
       "    <tr>\n",
       "      <td>3</td>\n",
       "      <td>P05346</td>\n",
       "      <td>Velachery</td>\n",
       "      <td>1855</td>\n",
       "      <td>14</td>\n",
       "      <td>3.0</td>\n",
       "      <td>2.0</td>\n",
       "      <td>5</td>\n",
       "      <td>Family</td>\n",
       "      <td>No</td>\n",
       "      <td>Others</td>\n",
       "      <td>NoSewr</td>\n",
       "      <td>Paved</td>\n",
       "      <td>I</td>\n",
       "      <td>4.7</td>\n",
       "      <td>3.9</td>\n",
       "      <td>3.6</td>\n",
       "      <td>4.010</td>\n",
       "      <td>77042</td>\n",
       "      <td>9630290</td>\n",
       "    </tr>\n",
       "    <tr>\n",
       "      <td>4</td>\n",
       "      <td>P06210</td>\n",
       "      <td>Karapakkam</td>\n",
       "      <td>1226</td>\n",
       "      <td>84</td>\n",
       "      <td>1.0</td>\n",
       "      <td>1.0</td>\n",
       "      <td>3</td>\n",
       "      <td>AbNormal</td>\n",
       "      <td>Yes</td>\n",
       "      <td>Others</td>\n",
       "      <td>AllPub</td>\n",
       "      <td>Gravel</td>\n",
       "      <td>C</td>\n",
       "      <td>3.0</td>\n",
       "      <td>2.5</td>\n",
       "      <td>4.1</td>\n",
       "      <td>3.290</td>\n",
       "      <td>74063</td>\n",
       "      <td>7406250</td>\n",
       "    </tr>\n",
       "  </tbody>\n",
       "</table>\n",
       "</div>"
      ],
      "text/plain": [
       "   PRT_ID        AREA  INT_SQFT  DIST_MAINROAD  N_BEDROOM  N_BATHROOM  N_ROOM  \\\n",
       "0  P03210  Karapakkam      1004            131        1.0         1.0       3   \n",
       "1  P09411  Anna Nagar      1986             26        2.0         1.0       5   \n",
       "2  P01812       Adyar       909             70        1.0         1.0       3   \n",
       "3  P05346   Velachery      1855             14        3.0         2.0       5   \n",
       "4  P06210  Karapakkam      1226             84        1.0         1.0       3   \n",
       "\n",
       "  SALE_COND PARK_FACIL   BUILDTYPE UTILITY_AVAIL  STREET MZZONE  QS_ROOMS  \\\n",
       "0  AbNormal        Yes  Commercial        AllPub   Paved      A       4.0   \n",
       "1  AbNormal         No  Commercial        AllPub  Gravel     RH       4.9   \n",
       "2  AbNormal        Yes  Commercial           ELO  Gravel     RL       4.1   \n",
       "3    Family         No      Others       NoSewr    Paved      I       4.7   \n",
       "4  AbNormal        Yes      Others        AllPub  Gravel      C       3.0   \n",
       "\n",
       "   QS_BATHROOM  QS_BEDROOM  QS_OVERALL  COMMIS  SALES_PRICE  \n",
       "0          3.9         4.9       4.330  144400      7600000  \n",
       "1          4.2         2.5       3.765  304049     21717770  \n",
       "2          3.8         2.2       3.090   92114     13159200  \n",
       "3          3.9         3.6       4.010   77042      9630290  \n",
       "4          2.5         4.1       3.290   74063      7406250  "
      ]
     },
     "execution_count": 2,
     "metadata": {},
     "output_type": "execute_result"
    }
   ],
   "source": [
    "df=pd.read_csv('C:/Users/Dell/Desktop/Python data sets/chennai_house_price_prediction.csv')\n",
    "df.head()"
   ]
  },
  {
   "cell_type": "code",
   "execution_count": 3,
   "metadata": {},
   "outputs": [
    {
     "data": {
      "text/plain": [
       "(7109, 19)"
      ]
     },
     "execution_count": 3,
     "metadata": {},
     "output_type": "execute_result"
    }
   ],
   "source": [
    "df.shape"
   ]
  },
  {
   "cell_type": "code",
   "execution_count": 4,
   "metadata": {},
   "outputs": [
    {
     "data": {
      "text/plain": [
       "Index(['PRT_ID', 'AREA', 'INT_SQFT', 'DIST_MAINROAD', 'N_BEDROOM',\n",
       "       'N_BATHROOsM', 'N_ROOM', 'SALE_COND', 'PARK_FACIL', 'BUILDTYPE',\n",
       "       'UTILITY_AVAIL', 'STREET', 'MZZONE', 'QS_ROOMS', 'QS_BATHROOM',\n",
       "       'QS_BEDROOM', 'QS_OVERALL', 'COMMIS', 'SALES_PRICE'],\n",
       "      dtype='object')"
      ]
     },
     "execution_count": 4,
     "metadata": {},
     "output_type": "execute_result"
    }
   ],
   "source": [
    "df.columns"
   ]
  },
  {
   "cell_type": "code",
   "execution_count": 5,
   "metadata": {},
   "outputs": [
    {
     "data": {
      "text/plain": [
       "PRT_ID            object\n",
       "AREA              object\n",
       "INT_SQFT           int64\n",
       "DIST_MAINROAD      int64\n",
       "N_BEDROOM        float64\n",
       "N_BATHROOM       float64\n",
       "N_ROOM             int64\n",
       "SALE_COND         object\n",
       "PARK_FACIL        object\n",
       "BUILDTYPE         object\n",
       "UTILITY_AVAIL     object\n",
       "STREET            object\n",
       "MZZONE            object\n",
       "QS_ROOMS         float64\n",
       "QS_BATHROOM      float64\n",
       "QS_BEDROOM       float64\n",
       "QS_OVERALL       float64\n",
       "COMMIS             int64\n",
       "SALES_PRICE        int64\n",
       "dtype: object"
      ]
     },
     "execution_count": 5,
     "metadata": {},
     "output_type": "execute_result"
    }
   ],
   "source": [
    "df.dtypes"
   ]
  },
  {
   "cell_type": "code",
   "execution_count": 6,
   "metadata": {},
   "outputs": [
    {
     "data": {
      "text/plain": [
       "PRT_ID           7109\n",
       "AREA               17\n",
       "INT_SQFT         1699\n",
       "DIST_MAINROAD     201\n",
       "N_BEDROOM           4\n",
       "N_BATHROOM          2\n",
       "N_ROOM              5\n",
       "SALE_COND           9\n",
       "PARK_FACIL          3\n",
       "BUILDTYPE           5\n",
       "UTILITY_AVAIL       5\n",
       "STREET              5\n",
       "MZZONE              6\n",
       "QS_ROOMS           31\n",
       "QS_BATHROOM        31\n",
       "QS_BEDROOM         31\n",
       "QS_OVERALL        479\n",
       "COMMIS           7011\n",
       "SALES_PRICE      7057\n",
       "dtype: int64"
      ]
     },
     "execution_count": 6,
     "metadata": {},
     "output_type": "execute_result"
    }
   ],
   "source": [
    "df.nunique()"
   ]
  },
  {
   "cell_type": "code",
   "execution_count": 7,
   "metadata": {},
   "outputs": [],
   "source": [
    "check=pd.DataFrame(columns=['Unique count','d types'],index=df.columns)"
   ]
  },
  {
   "cell_type": "code",
   "execution_count": 8,
   "metadata": {},
   "outputs": [],
   "source": [
    "check['Unique count']=df.nunique()"
   ]
  },
  {
   "cell_type": "code",
   "execution_count": 9,
   "metadata": {},
   "outputs": [],
   "source": [
    "check['d types']=df.dtypes"
   ]
  },
  {
   "cell_type": "code",
   "execution_count": 10,
   "metadata": {},
   "outputs": [
    {
     "data": {
      "text/plain": [
       "PRT_ID            0\n",
       "AREA              0\n",
       "INT_SQFT          0\n",
       "DIST_MAINROAD     0\n",
       "N_BEDROOM         1\n",
       "N_BATHROOM        5\n",
       "N_ROOM            0\n",
       "SALE_COND         0\n",
       "PARK_FACIL        0\n",
       "BUILDTYPE         0\n",
       "UTILITY_AVAIL     0\n",
       "STREET            0\n",
       "MZZONE            0\n",
       "QS_ROOMS          0\n",
       "QS_BATHROOM       0\n",
       "QS_BEDROOM        0\n",
       "QS_OVERALL       48\n",
       "COMMIS            0\n",
       "SALES_PRICE       0\n",
       "dtype: int64"
      ]
     },
     "execution_count": 10,
     "metadata": {},
     "output_type": "execute_result"
    }
   ],
   "source": [
    "df.isnull().sum()"
   ]
  },
  {
   "cell_type": "code",
   "execution_count": 11,
   "metadata": {},
   "outputs": [],
   "source": [
    "check['null count']=df.isnull().sum()"
   ]
  },
  {
   "cell_type": "code",
   "execution_count": 12,
   "metadata": {},
   "outputs": [
    {
     "data": {
      "text/html": [
       "<div>\n",
       "<style scoped>\n",
       "    .dataframe tbody tr th:only-of-type {\n",
       "        vertical-align: middle;\n",
       "    }\n",
       "\n",
       "    .dataframe tbody tr th {\n",
       "        vertical-align: top;\n",
       "    }\n",
       "\n",
       "    .dataframe thead th {\n",
       "        text-align: right;\n",
       "    }\n",
       "</style>\n",
       "<table border=\"1\" class=\"dataframe\">\n",
       "  <thead>\n",
       "    <tr style=\"text-align: right;\">\n",
       "      <th></th>\n",
       "      <th>Unique count</th>\n",
       "      <th>d types</th>\n",
       "      <th>null count</th>\n",
       "    </tr>\n",
       "  </thead>\n",
       "  <tbody>\n",
       "    <tr>\n",
       "      <td>PRT_ID</td>\n",
       "      <td>7109</td>\n",
       "      <td>object</td>\n",
       "      <td>0</td>\n",
       "    </tr>\n",
       "    <tr>\n",
       "      <td>AREA</td>\n",
       "      <td>17</td>\n",
       "      <td>object</td>\n",
       "      <td>0</td>\n",
       "    </tr>\n",
       "    <tr>\n",
       "      <td>INT_SQFT</td>\n",
       "      <td>1699</td>\n",
       "      <td>int64</td>\n",
       "      <td>0</td>\n",
       "    </tr>\n",
       "    <tr>\n",
       "      <td>DIST_MAINROAD</td>\n",
       "      <td>201</td>\n",
       "      <td>int64</td>\n",
       "      <td>0</td>\n",
       "    </tr>\n",
       "    <tr>\n",
       "      <td>N_BEDROOM</td>\n",
       "      <td>4</td>\n",
       "      <td>float64</td>\n",
       "      <td>1</td>\n",
       "    </tr>\n",
       "    <tr>\n",
       "      <td>N_BATHROOM</td>\n",
       "      <td>2</td>\n",
       "      <td>float64</td>\n",
       "      <td>5</td>\n",
       "    </tr>\n",
       "    <tr>\n",
       "      <td>N_ROOM</td>\n",
       "      <td>5</td>\n",
       "      <td>int64</td>\n",
       "      <td>0</td>\n",
       "    </tr>\n",
       "    <tr>\n",
       "      <td>SALE_COND</td>\n",
       "      <td>9</td>\n",
       "      <td>object</td>\n",
       "      <td>0</td>\n",
       "    </tr>\n",
       "    <tr>\n",
       "      <td>PARK_FACIL</td>\n",
       "      <td>3</td>\n",
       "      <td>object</td>\n",
       "      <td>0</td>\n",
       "    </tr>\n",
       "    <tr>\n",
       "      <td>BUILDTYPE</td>\n",
       "      <td>5</td>\n",
       "      <td>object</td>\n",
       "      <td>0</td>\n",
       "    </tr>\n",
       "    <tr>\n",
       "      <td>UTILITY_AVAIL</td>\n",
       "      <td>5</td>\n",
       "      <td>object</td>\n",
       "      <td>0</td>\n",
       "    </tr>\n",
       "    <tr>\n",
       "      <td>STREET</td>\n",
       "      <td>5</td>\n",
       "      <td>object</td>\n",
       "      <td>0</td>\n",
       "    </tr>\n",
       "    <tr>\n",
       "      <td>MZZONE</td>\n",
       "      <td>6</td>\n",
       "      <td>object</td>\n",
       "      <td>0</td>\n",
       "    </tr>\n",
       "    <tr>\n",
       "      <td>QS_ROOMS</td>\n",
       "      <td>31</td>\n",
       "      <td>float64</td>\n",
       "      <td>0</td>\n",
       "    </tr>\n",
       "    <tr>\n",
       "      <td>QS_BATHROOM</td>\n",
       "      <td>31</td>\n",
       "      <td>float64</td>\n",
       "      <td>0</td>\n",
       "    </tr>\n",
       "    <tr>\n",
       "      <td>QS_BEDROOM</td>\n",
       "      <td>31</td>\n",
       "      <td>float64</td>\n",
       "      <td>0</td>\n",
       "    </tr>\n",
       "    <tr>\n",
       "      <td>QS_OVERALL</td>\n",
       "      <td>479</td>\n",
       "      <td>float64</td>\n",
       "      <td>48</td>\n",
       "    </tr>\n",
       "    <tr>\n",
       "      <td>COMMIS</td>\n",
       "      <td>7011</td>\n",
       "      <td>int64</td>\n",
       "      <td>0</td>\n",
       "    </tr>\n",
       "    <tr>\n",
       "      <td>SALES_PRICE</td>\n",
       "      <td>7057</td>\n",
       "      <td>int64</td>\n",
       "      <td>0</td>\n",
       "    </tr>\n",
       "  </tbody>\n",
       "</table>\n",
       "</div>"
      ],
      "text/plain": [
       "               Unique count  d types  null count\n",
       "PRT_ID                 7109   object           0\n",
       "AREA                     17   object           0\n",
       "INT_SQFT               1699    int64           0\n",
       "DIST_MAINROAD           201    int64           0\n",
       "N_BEDROOM                 4  float64           1\n",
       "N_BATHROOM                2  float64           5\n",
       "N_ROOM                    5    int64           0\n",
       "SALE_COND                 9   object           0\n",
       "PARK_FACIL                3   object           0\n",
       "BUILDTYPE                 5   object           0\n",
       "UTILITY_AVAIL             5   object           0\n",
       "STREET                    5   object           0\n",
       "MZZONE                    6   object           0\n",
       "QS_ROOMS                 31  float64           0\n",
       "QS_BATHROOM              31  float64           0\n",
       "QS_BEDROOM               31  float64           0\n",
       "QS_OVERALL              479  float64          48\n",
       "COMMIS                 7011    int64           0\n",
       "SALES_PRICE            7057    int64           0"
      ]
     },
     "execution_count": 12,
     "metadata": {},
     "output_type": "execute_result"
    }
   ],
   "source": [
    "check"
   ]
  },
  {
   "cell_type": "markdown",
   "metadata": {},
   "source": [
    "# UNIVARIATE ANALYSIS \n",
    "## 1-> Continuous Variable."
   ]
  },
  {
   "cell_type": "code",
   "execution_count": 13,
   "metadata": {},
   "outputs": [
    {
     "data": {
      "text/plain": [
       "<matplotlib.axes._subplots.AxesSubplot at 0x1b0c5421208>"
      ]
     },
     "execution_count": 13,
     "metadata": {},
     "output_type": "execute_result"
    },
    {
     "data": {
      "image/png": "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\n",
      "text/plain": [
       "<Figure size 432x288 with 1 Axes>"
      ]
     },
     "metadata": {
      "needs_background": "light"
     },
     "output_type": "display_data"
    }
   ],
   "source": [
    "df['INT_SQFT'].plot.hist(bins=50)"
   ]
  },
  {
   "cell_type": "code",
   "execution_count": 14,
   "metadata": {},
   "outputs": [
    {
     "data": {
      "text/plain": [
       "<matplotlib.axes._subplots.AxesSubplot at 0x1b0ca9f8a88>"
      ]
     },
     "execution_count": 14,
     "metadata": {},
     "output_type": "execute_result"
    },
    {
     "data": {
      "image/png": "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\n",
      "text/plain": [
       "<Figure size 432x288 with 1 Axes>"
      ]
     },
     "metadata": {
      "needs_background": "light"
     },
     "output_type": "display_data"
    }
   ],
   "source": [
    "df['DIST_MAINROAD'].plot.hist(bins=50)"
   ]
  },
  {
   "cell_type": "code",
   "execution_count": 15,
   "metadata": {},
   "outputs": [
    {
     "data": {
      "text/plain": [
       "<matplotlib.axes._subplots.AxesSubplot at 0x1b0caadcc48>"
      ]
     },
     "execution_count": 15,
     "metadata": {},
     "output_type": "execute_result"
    },
    {
     "data": {
      "image/png": "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\n",
      "text/plain": [
       "<Figure size 432x288 with 1 Axes>"
      ]
     },
     "metadata": {
      "needs_background": "light"
     },
     "output_type": "display_data"
    }
   ],
   "source": [
    "df['QS_ROOMS'].plot.hist(bins=50)"
   ]
  },
  {
   "cell_type": "code",
   "execution_count": 16,
   "metadata": {},
   "outputs": [
    {
     "data": {
      "text/plain": [
       "<matplotlib.axes._subplots.AxesSubplot at 0x1b0cae4cd48>"
      ]
     },
     "execution_count": 16,
     "metadata": {},
     "output_type": "execute_result"
    },
    {
     "data": {
      "image/png": "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\n",
      "text/plain": [
       "<Figure size 432x288 with 1 Axes>"
      ]
     },
     "metadata": {
      "needs_background": "light"
     },
     "output_type": "display_data"
    }
   ],
   "source": [
    "df['QS_BATHROOM'].plot.hist(bins=50)"
   ]
  },
  {
   "cell_type": "code",
   "execution_count": 17,
   "metadata": {},
   "outputs": [
    {
     "data": {
      "text/plain": [
       "<matplotlib.axes._subplots.AxesSubplot at 0x1b0cafc0e08>"
      ]
     },
     "execution_count": 17,
     "metadata": {},
     "output_type": "execute_result"
    },
    {
     "data": {
      "image/png": "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\n",
      "text/plain": [
       "<Figure size 432x288 with 1 Axes>"
      ]
     },
     "metadata": {
      "needs_background": "light"
     },
     "output_type": "display_data"
    }
   ],
   "source": [
    "df['QS_BEDROOM'].plot.hist(bins=50)"
   ]
  },
  {
   "cell_type": "code",
   "execution_count": 18,
   "metadata": {},
   "outputs": [
    {
     "data": {
      "text/plain": [
       "<matplotlib.axes._subplots.AxesSubplot at 0x1b0cb0c1f08>"
      ]
     },
     "execution_count": 18,
     "metadata": {},
     "output_type": "execute_result"
    },
    {
     "data": {
      "image/png": "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\n",
      "text/plain": [
       "<Figure size 432x288 with 1 Axes>"
      ]
     },
     "metadata": {
      "needs_background": "light"
     },
     "output_type": "display_data"
    }
   ],
   "source": [
    "df['QS_BEDROOM'].plot.hist(bins=50)"
   ]
  },
  {
   "cell_type": "code",
   "execution_count": 19,
   "metadata": {},
   "outputs": [
    {
     "data": {
      "text/plain": [
       "<matplotlib.axes._subplots.AxesSubplot at 0x1b0cb1aaec8>"
      ]
     },
     "execution_count": 19,
     "metadata": {},
     "output_type": "execute_result"
    },
    {
     "data": {
      "image/png": "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\n",
      "text/plain": [
       "<Figure size 432x288 with 1 Axes>"
      ]
     },
     "metadata": {
      "needs_background": "light"
     },
     "output_type": "display_data"
    }
   ],
   "source": [
    "df['QS_OVERALL'].plot.hist(bins=50)"
   ]
  },
  {
   "cell_type": "code",
   "execution_count": 20,
   "metadata": {},
   "outputs": [
    {
     "data": {
      "text/plain": [
       "<matplotlib.axes._subplots.AxesSubplot at 0x1b0cb29f288>"
      ]
     },
     "execution_count": 20,
     "metadata": {},
     "output_type": "execute_result"
    },
    {
     "data": {
      "image/png": "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\n",
      "text/plain": [
       "<Figure size 432x288 with 1 Axes>"
      ]
     },
     "metadata": {
      "needs_background": "light"
     },
     "output_type": "display_data"
    }
   ],
   "source": [
    "df['COMMIS'].plot.hist(bins=50)"
   ]
  },
  {
   "cell_type": "code",
   "execution_count": 21,
   "metadata": {},
   "outputs": [
    {
     "data": {
      "text/plain": [
       "<matplotlib.axes._subplots.AxesSubplot at 0x1b0cb393488>"
      ]
     },
     "execution_count": 21,
     "metadata": {},
     "output_type": "execute_result"
    },
    {
     "data": {
      "image/png": "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\n",
      "text/plain": [
       "<Figure size 432x288 with 1 Axes>"
      ]
     },
     "metadata": {
      "needs_background": "light"
     },
     "output_type": "display_data"
    }
   ],
   "source": [
    "df['SALES_PRICE'].plot.hist(bins=50)"
   ]
  },
  {
   "cell_type": "markdown",
   "metadata": {},
   "source": [
    "## 2-> Categorical Variable"
   ]
  },
  {
   "cell_type": "code",
   "execution_count": 22,
   "metadata": {},
   "outputs": [
    {
     "data": {
      "text/html": [
       "<div>\n",
       "<style scoped>\n",
       "    .dataframe tbody tr th:only-of-type {\n",
       "        vertical-align: middle;\n",
       "    }\n",
       "\n",
       "    .dataframe tbody tr th {\n",
       "        vertical-align: top;\n",
       "    }\n",
       "\n",
       "    .dataframe thead th {\n",
       "        text-align: right;\n",
       "    }\n",
       "</style>\n",
       "<table border=\"1\" class=\"dataframe\">\n",
       "  <thead>\n",
       "    <tr style=\"text-align: right;\">\n",
       "      <th></th>\n",
       "      <th>Unique count</th>\n",
       "      <th>d types</th>\n",
       "      <th>null count</th>\n",
       "    </tr>\n",
       "  </thead>\n",
       "  <tbody>\n",
       "    <tr>\n",
       "      <td>PRT_ID</td>\n",
       "      <td>7109</td>\n",
       "      <td>object</td>\n",
       "      <td>0</td>\n",
       "    </tr>\n",
       "    <tr>\n",
       "      <td>AREA</td>\n",
       "      <td>17</td>\n",
       "      <td>object</td>\n",
       "      <td>0</td>\n",
       "    </tr>\n",
       "    <tr>\n",
       "      <td>INT_SQFT</td>\n",
       "      <td>1699</td>\n",
       "      <td>int64</td>\n",
       "      <td>0</td>\n",
       "    </tr>\n",
       "    <tr>\n",
       "      <td>DIST_MAINROAD</td>\n",
       "      <td>201</td>\n",
       "      <td>int64</td>\n",
       "      <td>0</td>\n",
       "    </tr>\n",
       "    <tr>\n",
       "      <td>N_BEDROOM</td>\n",
       "      <td>4</td>\n",
       "      <td>float64</td>\n",
       "      <td>1</td>\n",
       "    </tr>\n",
       "    <tr>\n",
       "      <td>N_BATHROOM</td>\n",
       "      <td>2</td>\n",
       "      <td>float64</td>\n",
       "      <td>5</td>\n",
       "    </tr>\n",
       "    <tr>\n",
       "      <td>N_ROOM</td>\n",
       "      <td>5</td>\n",
       "      <td>int64</td>\n",
       "      <td>0</td>\n",
       "    </tr>\n",
       "    <tr>\n",
       "      <td>SALE_COND</td>\n",
       "      <td>9</td>\n",
       "      <td>object</td>\n",
       "      <td>0</td>\n",
       "    </tr>\n",
       "    <tr>\n",
       "      <td>PARK_FACIL</td>\n",
       "      <td>3</td>\n",
       "      <td>object</td>\n",
       "      <td>0</td>\n",
       "    </tr>\n",
       "    <tr>\n",
       "      <td>BUILDTYPE</td>\n",
       "      <td>5</td>\n",
       "      <td>object</td>\n",
       "      <td>0</td>\n",
       "    </tr>\n",
       "    <tr>\n",
       "      <td>UTILITY_AVAIL</td>\n",
       "      <td>5</td>\n",
       "      <td>object</td>\n",
       "      <td>0</td>\n",
       "    </tr>\n",
       "    <tr>\n",
       "      <td>STREET</td>\n",
       "      <td>5</td>\n",
       "      <td>object</td>\n",
       "      <td>0</td>\n",
       "    </tr>\n",
       "    <tr>\n",
       "      <td>MZZONE</td>\n",
       "      <td>6</td>\n",
       "      <td>object</td>\n",
       "      <td>0</td>\n",
       "    </tr>\n",
       "    <tr>\n",
       "      <td>QS_ROOMS</td>\n",
       "      <td>31</td>\n",
       "      <td>float64</td>\n",
       "      <td>0</td>\n",
       "    </tr>\n",
       "    <tr>\n",
       "      <td>QS_BATHROOM</td>\n",
       "      <td>31</td>\n",
       "      <td>float64</td>\n",
       "      <td>0</td>\n",
       "    </tr>\n",
       "    <tr>\n",
       "      <td>QS_BEDROOM</td>\n",
       "      <td>31</td>\n",
       "      <td>float64</td>\n",
       "      <td>0</td>\n",
       "    </tr>\n",
       "    <tr>\n",
       "      <td>QS_OVERALL</td>\n",
       "      <td>479</td>\n",
       "      <td>float64</td>\n",
       "      <td>48</td>\n",
       "    </tr>\n",
       "    <tr>\n",
       "      <td>COMMIS</td>\n",
       "      <td>7011</td>\n",
       "      <td>int64</td>\n",
       "      <td>0</td>\n",
       "    </tr>\n",
       "    <tr>\n",
       "      <td>SALES_PRICE</td>\n",
       "      <td>7057</td>\n",
       "      <td>int64</td>\n",
       "      <td>0</td>\n",
       "    </tr>\n",
       "  </tbody>\n",
       "</table>\n",
       "</div>"
      ],
      "text/plain": [
       "               Unique count  d types  null count\n",
       "PRT_ID                 7109   object           0\n",
       "AREA                     17   object           0\n",
       "INT_SQFT               1699    int64           0\n",
       "DIST_MAINROAD           201    int64           0\n",
       "N_BEDROOM                 4  float64           1\n",
       "N_BATHROOM                2  float64           5\n",
       "N_ROOM                    5    int64           0\n",
       "SALE_COND                 9   object           0\n",
       "PARK_FACIL                3   object           0\n",
       "BUILDTYPE                 5   object           0\n",
       "UTILITY_AVAIL             5   object           0\n",
       "STREET                    5   object           0\n",
       "MZZONE                    6   object           0\n",
       "QS_ROOMS                 31  float64           0\n",
       "QS_BATHROOM              31  float64           0\n",
       "QS_BEDROOM               31  float64           0\n",
       "QS_OVERALL              479  float64          48\n",
       "COMMIS                 7011    int64           0\n",
       "SALES_PRICE            7057    int64           0"
      ]
     },
     "execution_count": 22,
     "metadata": {},
     "output_type": "execute_result"
    }
   ],
   "source": [
    "check"
   ]
  },
  {
   "cell_type": "code",
   "execution_count": 23,
   "metadata": {},
   "outputs": [
    {
     "data": {
      "text/plain": [
       "Chrompet      23.646082\n",
       "Karapakkam    19.172879\n",
       "KK Nagar      14.010409\n",
       "Velachery     13.771276\n",
       "Anna Nagar    11.014207\n",
       "Adyar         10.873541\n",
       "T Nagar        6.977071\n",
       "Chrompt        0.126600\n",
       "Chrmpet        0.084400\n",
       "Chormpet       0.084400\n",
       "TNagar         0.070333\n",
       "Ana Nagar      0.042200\n",
       "Karapakam      0.042200\n",
       "Ann Nagar      0.028133\n",
       "Velchery       0.028133\n",
       "Adyr           0.014067\n",
       "KKNagar        0.014067\n",
       "Name: AREA, dtype: float64"
      ]
     },
     "execution_count": 23,
     "metadata": {},
     "output_type": "execute_result"
    }
   ],
   "source": [
    "df['AREA'].value_counts()/len(df['AREA'])*100"
   ]
  },
  {
   "cell_type": "code",
   "execution_count": 24,
   "metadata": {},
   "outputs": [
    {
     "data": {
      "text/plain": [
       "<matplotlib.axes._subplots.AxesSubplot at 0x1b0cb4c8d48>"
      ]
     },
     "execution_count": 24,
     "metadata": {},
     "output_type": "execute_result"
    },
    {
     "data": {
      "image/png": "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\n",
      "text/plain": [
       "<Figure size 432x288 with 1 Axes>"
      ]
     },
     "metadata": {
      "needs_background": "light"
     },
     "output_type": "display_data"
    }
   ],
   "source": [
    "df['AREA'].value_counts().plot.bar()"
   ]
  },
  {
   "cell_type": "code",
   "execution_count": 25,
   "metadata": {},
   "outputs": [
    {
     "data": {
      "text/plain": [
       "1.0    53.383036\n",
       "2.0    33.084822\n",
       "3.0     9.945140\n",
       "4.0     3.572936\n",
       "Name: N_BEDROOM, dtype: float64"
      ]
     },
     "execution_count": 25,
     "metadata": {},
     "output_type": "execute_result"
    }
   ],
   "source": [
    "df['N_BEDROOM'].value_counts()/len(df['N_BEDROOM'])*100"
   ]
  },
  {
   "cell_type": "code",
   "execution_count": 26,
   "metadata": {},
   "outputs": [
    {
     "data": {
      "text/plain": [
       "<matplotlib.axes._subplots.AxesSubplot at 0x1b0cb584c88>"
      ]
     },
     "execution_count": 26,
     "metadata": {},
     "output_type": "execute_result"
    },
    {
     "data": {
      "image/png": "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\n",
      "text/plain": [
       "<Figure size 432x288 with 1 Axes>"
      ]
     },
     "metadata": {
      "needs_background": "light"
     },
     "output_type": "display_data"
    }
   ],
   "source": [
    "df['N_BEDROOM'].value_counts().plot.bar()"
   ]
  },
  {
   "cell_type": "code",
   "execution_count": 27,
   "metadata": {},
   "outputs": [
    {
     "data": {
      "text/plain": [
       "1.0    78.618652\n",
       "2.0    21.311014\n",
       "Name: N_BATHROOM, dtype: float64"
      ]
     },
     "execution_count": 27,
     "metadata": {},
     "output_type": "execute_result"
    }
   ],
   "source": [
    "df['N_BATHROOM'].value_counts()/len(df['N_BATHROOM'])*100"
   ]
  },
  {
   "cell_type": "code",
   "execution_count": 28,
   "metadata": {},
   "outputs": [
    {
     "data": {
      "text/plain": [
       "<matplotlib.axes._subplots.AxesSubplot at 0x1b0cb5eee88>"
      ]
     },
     "execution_count": 28,
     "metadata": {},
     "output_type": "execute_result"
    },
    {
     "data": {
      "image/png": "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\n",
      "text/plain": [
       "<Figure size 432x288 with 1 Axes>"
      ]
     },
     "metadata": {
      "needs_background": "light"
     },
     "output_type": "display_data"
    }
   ],
   "source": [
    "df['N_BATHROOM'].value_counts().plot.bar()"
   ]
  },
  {
   "cell_type": "code",
   "execution_count": 29,
   "metadata": {},
   "outputs": [
    {
     "data": {
      "text/plain": [
       "4    36.052891\n",
       "3    29.891687\n",
       "5    17.527078\n",
       "2    12.955409\n",
       "6     3.572936\n",
       "Name: N_ROOM, dtype: float64"
      ]
     },
     "execution_count": 29,
     "metadata": {},
     "output_type": "execute_result"
    }
   ],
   "source": [
    "df['N_ROOM'].value_counts()/len(df['N_ROOM'])*100"
   ]
  },
  {
   "cell_type": "code",
   "execution_count": 30,
   "metadata": {},
   "outputs": [
    {
     "data": {
      "text/plain": [
       "<matplotlib.axes._subplots.AxesSubplot at 0x1b0cb661bc8>"
      ]
     },
     "execution_count": 30,
     "metadata": {},
     "output_type": "execute_result"
    },
    {
     "data": {
      "image/png": "iVBORw0KGgoAAAANSUhEUgAAAX0AAAD1CAYAAAC87SVQAAAABHNCSVQICAgIfAhkiAAAAAlwSFlzAAALEgAACxIB0t1+/AAAADh0RVh0U29mdHdhcmUAbWF0cGxvdGxpYiB2ZXJzaW9uMy4xLjEsIGh0dHA6Ly9tYXRwbG90bGliLm9yZy8QZhcZAAAO9klEQVR4nO3df6zddX3H8efLosSp07JeWNfWXWbqZs1mZXeFhSXDsJVSllWXkcAf0hBc/aNkmvlP1T9wGpIumZqZOZI6G2FRCZka6mjGOuaPuAzshTGgdoQrdnJthetqQIfRFd/743y7Hsq5P3p7e07l83wkJ+d73t/P95z39xt4ne/9nO85TVUhSWrDS0bdgCRpeAx9SWqIoS9JDTH0Jakhhr4kNcTQl6SGnDPqBuayYsWKGh8fH3UbkvQz5f777/9eVY0NWndWh/74+DiTk5OjbkOSfqYk+a/Z1jm9I0kNMfQlqSGGviQ1xNCXpIYY+pLUEENfkhpi6EtSQwx9SWrIWf3lrKUwvuOuUbcAwKGdV426BUnyTF+SWjJv6CdZk+RLSQ4mOZDkXV39A0m+k+TB7ra5b5v3JplK8miSK/rqm7raVJIdZ2aXJEmzWcj0zjHgPVX1QJJXAfcn2det+2hV/WX/4CTrgGuANwK/BPxzktd3qz8O/D4wDexPsqeqvrEUOyJJmt+8oV9VR4Aj3fIPkhwEVs2xyRbg9qr6MfCtJFPAhm7dVFU9DpDk9m6soS9JQ3JKc/pJxoE3A/d1pRuTPJRkd5LlXW0V8ETfZtNdbbb6ya+xLclkksmZmZlTaU+SNI8Fh36SVwKfA95dVc8AtwCvA9bT+0vgw8eHDti85qg/v1C1q6omqmpibGzgz0FLkhZpQZdsJnkpvcD/dFV9HqCqnuxb/wngH7qH08Cavs1XA4e75dnqkqQhWMjVOwE+CRysqo/01Vf2DXsb8Ei3vAe4Jsm5SS4E1gJfB/YDa5NcmORl9D7s3bM0uyFJWoiFnOlfCrwdeDjJg13tfcC1SdbTm6I5BLwToKoOJLmD3ge0x4DtVfUcQJIbgbuBZcDuqjqwhPsiSZrHQq7e+RqD5+P3zrHNzcDNA+p759pOknRm+Y1cSWqIoS9JDTH0Jakhhr4kNcTQl6SGGPqS1BBDX5IaYuhLUkMMfUlqiKEvSQ0x9CWpIYa+JDXE0Jekhhj6ktQQQ1+SGmLoS1JDDH1JaoihL0kNMfQlqSGGviQ1xNCXpIYY+pLUEENfkhpi6EtSQwx9SWrIOaNuQMMzvuOuUbcAwKGdV426BalZnulLUkMMfUlqiKEvSQ0x9CWpIYa+JDVk3tBPsibJl5IcTHIgybu6+nlJ9iV5rLtf3tWT5GNJppI8lOSivufa2o1/LMnWM7dbkqRBFnKmfwx4T1W9AbgE2J5kHbADuKeq1gL3dI8BrgTWdrdtwC3Qe5MAbgIuBjYANx1/o5AkDce8oV9VR6rqgW75B8BBYBWwBbi1G3Yr8NZueQtwW/XcC7wmyUrgCmBfVR2tqu8D+4BNS7o3kqQ5ndKcfpJx4M3AfcAFVXUEem8MwPndsFXAE32bTXe12eqSpCFZcOgneSXwOeDdVfXMXEMH1GqO+smvsy3JZJLJmZmZhbYnSVqABYV+kpfSC/xPV9Xnu/KT3bQN3f1TXX0aWNO3+Wrg8Bz156mqXVU1UVUTY2Njp7IvkqR5LOTqnQCfBA5W1Uf6Vu0Bjl+BsxW4s69+XXcVzyXA0930z93AxiTLuw9wN3Y1SdKQLOQH1y4F3g48nOTBrvY+YCdwR5IbgG8DV3fr9gKbgSngWeB6gKo6muRDwP5u3Aer6uiS7IUkaUHmDf2q+hqD5+MBLh8wvoDtszzXbmD3qTQoSVo6fiNXkhpi6EtSQwx9SWqIoS9JDTH0Jakhhr4kNcTQl6SGGPqS1BBDX5IaYuhLUkMMfUlqiKEvSQ0x9CWpIYa+JDXE0Jekhhj6ktQQQ1+SGmLoS1JDDH1JaoihL0kNMfQlqSGGviQ1xNCXpIYY+pLUEENfkhpi6EtSQwx9SWqIoS9JDTH0Jakhhr4kNcTQl6SGzBv6SXYneSrJI321DyT5TpIHu9vmvnXvTTKV5NEkV/TVN3W1qSQ7ln5XJEnzWciZ/qeATQPqH62q9d1tL0CSdcA1wBu7bf4mybIky4CPA1cC64Bru7GSpCE6Z74BVfXVJOMLfL4twO1V9WPgW0mmgA3duqmqehwgye3d2G+ccseSpEU7nTn9G5M81E3/LO9qq4An+sZMd7XZ6pKkIVps6N8CvA5YDxwBPtzVM2BszVF/gSTbkkwmmZyZmVlke5KkQRYV+lX1ZFU9V1U/BT7BiSmcaWBN39DVwOE56oOee1dVTVTVxNjY2GLakyTNYlGhn2Rl38O3Acev7NkDXJPk3CQXAmuBrwP7gbVJLkzyMnof9u5ZfNuSpMWY94PcJJ8FLgNWJJkGbgIuS7Ke3hTNIeCdAFV1IMkd9D6gPQZsr6rnuue5EbgbWAbsrqoDS743kqQ5LeTqnWsHlD85x/ibgZsH1PcCe0+pO0nSkvIbuZLUEENfkhpi6EtSQwx9SWqIoS9JDTH0Jakhhr4kNcTQl6SGGPqS1BBDX5IaYuhLUkMMfUlqiKEvSQ0x9CWpIYa+JDXE0Jekhsz7j6hIL0bjO+4adQsAHNp51ahbUGM805ekhhj6ktQQQ1+SGmLoS1JDDH1JaoihL0kNMfQlqSGGviQ1xNCXpIYY+pLUEENfkhpi6EtSQwx9SWqIoS9JDTH0Jakh84Z+kt1JnkrySF/tvCT7kjzW3S/v6knysSRTSR5KclHfNlu78Y8l2XpmdkeSNJeFnOl/Cth0Um0HcE9VrQXu6R4DXAms7W7bgFug9yYB3ARcDGwAbjr+RiFJGp55Q7+qvgocPam8Bbi1W74VeGtf/bbquRd4TZKVwBXAvqo6WlXfB/bxwjcSSdIZttg5/Quq6ghAd39+V18FPNE3brqrzVaXJA3RUn+QmwG1mqP+widItiWZTDI5MzOzpM1JUusWG/pPdtM2dPdPdfVpYE3fuNXA4TnqL1BVu6pqoqomxsbGFtmeJGmQxYb+HuD4FThbgTv76td1V/FcAjzdTf/cDWxMsrz7AHdjV5MkDdE58w1I8lngMmBFkml6V+HsBO5IcgPwbeDqbvheYDMwBTwLXA9QVUeTfAjY3437YFWd/OGwJOkMmzf0q+raWVZdPmBsAdtneZ7dwO5T6k6StKT8Rq4kNWTeM31JL27jO+4adQsAHNp51ahbaIJn+pLUEENfkhpi6EtSQwx9SWqIoS9JDTH0Jakhhr4kNcTQl6SGGPqS1BBDX5IaYuhLUkMMfUlqiKEvSQ0x9CWpIYa+JDXE0Jekhhj6ktQQQ1+SGmLoS1JDDH1JaoihL0kNMfQlqSGGviQ1xNCXpIYY+pLUEENfkhpi6EtSQwx9SWqIoS9JDTmt0E9yKMnDSR5MMtnVzkuyL8lj3f3yrp4kH0syleShJBctxQ5IkhZuKc7031JV66tqonu8A7inqtYC93SPAa4E1na3bcAtS/DakqRTcCamd7YAt3bLtwJv7avfVj33Aq9JsvIMvL4kaRanG/oF/FOS+5Ns62oXVNURgO7+/K6+Cniib9vpriZJGpJzTnP7S6vqcJLzgX1J/nOOsRlQqxcM6r15bAN47Wtfe5rtSZL6ndaZflUd7u6fAr4AbACePD5t090/1Q2fBtb0bb4aODzgOXdV1URVTYyNjZ1Oe5Kkkyw69JO8Ismrji8DG4FHgD3A1m7YVuDObnkPcF13Fc8lwNPHp4EkScNxOtM7FwBfSHL8eT5TVf+YZD9wR5IbgG8DV3fj9wKbgSngWeD603htSdIiLDr0q+px4E0D6v8NXD6gXsD2xb6eJOn0+Y1cSWqIoS9JDTH0Jakhhr4kNcTQl6SGGPqS1BBDX5IaYuhLUkMMfUlqiKEvSQ0x9CWpIYa+JDXE0Jekhhj6ktQQQ1+SGnK6/0auJL1ojO+4a9QtAHBo51Vn7Lk905ekhhj6ktQQQ1+SGmLoS1JDDH1JaoihL0kNMfQlqSGGviQ1xNCXpIYY+pLUEENfkhpi6EtSQwx9SWqIoS9JDTH0Jakhhr4kNWTooZ9kU5JHk0wl2THs15eklg019JMsAz4OXAmsA65Nsm6YPUhSy4Z9pr8BmKqqx6vqJ8DtwJYh9yBJzUpVDe/Fkj8GNlXVO7rHbwcurqob+8ZsA7Z1D38VeHRoDc5uBfC9UTdxlvBYnOCxOMFjccLZcCx+uarGBq0Y9j+MngG1573rVNUuYNdw2lmYJJNVNTHqPs4GHosTPBYneCxOONuPxbCnd6aBNX2PVwOHh9yDJDVr2KG/H1ib5MIkLwOuAfYMuQdJatZQp3eq6liSG4G7gWXA7qo6MMweFumsmm4aMY/FCR6LEzwWJ5zVx2KoH+RKkkbLb+RKUkMMfUlqiKEvSQ0x9OeR5LZR9zBKSTYk+a1ueV2SP0uyedR9jVqS3+mOxcZR9zIKSX4tyeVJXnlSfdOoehqFJBcn+flu+eVJ/jzJF5P8RZJXj7q/Qfwgt0+Sky8fDfAW4F8AquoPh97UCCW5id7vJJ0D7AMuBr4M/B5wd1XdPLruhivJ16tqQ7f8J8B24AvARuCLVbVzlP0NU5I/pbf/B4H1wLuq6s5u3QNVddEo+xumJAeAN3VXJu4CngX+Hri8q//RSBscwNDvk+QB4BvA39L7pnCAz9L7PgFV9ZXRdTd8SR6m9z/1ucB3gdVV9UySlwP3VdVvjLTBIUry71X15m55P7C5qmaSvAK4t6p+fbQdDk/338VvV9UPk4zTC7m/q6q/6j9OLUhysKre0C0/7w0vyYNVtX503Q3m9M7zTQD3A+8Hnq6qLwM/qqqvtBb4nWNV9VxVPQt8s6qeAaiqHwE/HW1rQ/eSJMuT/AK9k6UZgKr6H+DYaFsbumVV9UOAqjoEXAZcmeQjDP6plRezR5Jc3y3/R5IJgCSvB/53dG3NztDvU1U/raqPAtcD70/y1wz/94nOJj9J8nPd8m8eL3Zzla2F/qvpnRBMAucl+UWAbk67taD7bpL/P4Pt3gD+gN4PjTXzF0/nHcDvJvkmvZ+L/7ckjwOf6NaddZzemUOSq4BLq+p9o+5lFJKcW1U/HlBfAaysqodH0NZZpXtTvKCqvjXqXoYlyWp6fwV+d8C6S6vqX0fQ1kgleRXwK/ROEqer6skRtzQrQ1+SGuL0jiQ1xNCXpIYY+pLUEENfkhpi6EtSQ/4PNWnbIJ3YhjgAAAAASUVORK5CYII=\n",
      "text/plain": [
       "<Figure size 432x288 with 1 Axes>"
      ]
     },
     "metadata": {
      "needs_background": "light"
     },
     "output_type": "display_data"
    }
   ],
   "source": [
    "df['N_ROOM'].value_counts().plot.bar()"
   ]
  },
  {
   "cell_type": "code",
   "execution_count": 31,
   "metadata": {},
   "outputs": [
    {
     "data": {
      "text/plain": [
       "AdjLand        20.157547\n",
       "Partial        20.101280\n",
       "Normal Sale    20.016880\n",
       "AbNormal       19.777747\n",
       "Family         19.735546\n",
       "Adj Land        0.084400\n",
       "Ab Normal       0.070333\n",
       "Partiall        0.042200\n",
       "PartiaLl        0.014067\n",
       "Name: SALE_COND, dtype: float64"
      ]
     },
     "execution_count": 31,
     "metadata": {},
     "output_type": "execute_result"
    }
   ],
   "source": [
    "df['SALE_COND'].value_counts()/len(df['SALE_COND'])*100"
   ]
  },
  {
   "cell_type": "code",
   "execution_count": 32,
   "metadata": {},
   "outputs": [
    {
     "data": {
      "text/plain": [
       "<matplotlib.axes._subplots.AxesSubplot at 0x1b0cc6a1508>"
      ]
     },
     "execution_count": 32,
     "metadata": {},
     "output_type": "execute_result"
    },
    {
     "data": {
      "image/png": "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\n",
      "text/plain": [
       "<Figure size 432x288 with 1 Axes>"
      ]
     },
     "metadata": {
      "needs_background": "light"
     },
     "output_type": "display_data"
    }
   ],
   "source": [
    "df['SALE_COND'].value_counts().plot.bar()"
   ]
  },
  {
   "cell_type": "code",
   "execution_count": 33,
   "metadata": {},
   "outputs": [
    {
     "data": {
      "text/plain": [
       "Yes    50.457167\n",
       "No     49.514700\n",
       "Noo     0.028133\n",
       "Name: PARK_FACIL, dtype: float64"
      ]
     },
     "execution_count": 33,
     "metadata": {},
     "output_type": "execute_result"
    }
   ],
   "source": [
    "df['PARK_FACIL'].value_counts()/len(df['PARK_FACIL'])*100"
   ]
  },
  {
   "cell_type": "code",
   "execution_count": 34,
   "metadata": {},
   "outputs": [
    {
     "data": {
      "text/plain": [
       "<matplotlib.axes._subplots.AxesSubplot at 0x1b0cc684848>"
      ]
     },
     "execution_count": 34,
     "metadata": {},
     "output_type": "execute_result"
    },
    {
     "data": {
      "image/png": "iVBORw0KGgoAAAANSUhEUgAAAX0AAAECCAYAAAASDQdFAAAABHNCSVQICAgIfAhkiAAAAAlwSFlzAAALEgAACxIB0t1+/AAAADh0RVh0U29mdHdhcmUAbWF0cGxvdGxpYiB2ZXJzaW9uMy4xLjEsIGh0dHA6Ly9tYXRwbG90bGliLm9yZy8QZhcZAAAR+0lEQVR4nO3df4xd513n8fendppWpWycZloZ27sOrNE23QU3GpxApVW36SZO+MMpIigRECsbycAmUhEIkfIH6Q8iFdg22i4lWqO4dRA0a1GqGtZL8IaiUq3aZAImjRuizKalGWziKU5TQrTZJv3yx32s3jh3Zu6Mx3fiPu+XdHXP+Z7n3PMcHelzj5/z3HGqCklSH1611h2QJE2OoS9JHTH0Jakjhr4kdcTQl6SOGPqS1JH1a92BxVx00UW1devWte6GJJ1THnrooa9V1dSoba/o0N+6dSszMzNr3Q1JOqck+duFtjm8I0kdMfQlqSOGviR1xNCXpI4Y+pLUEUNfkjpi6EtSRwx9SerIK/rHWZO29bb/udZdOKu+8sEfXesuSFpj3ulLUkeWDP0kr0nyQJK/TnI0yfta/eNJvpzkSHttb/Uk+UiS2SQPJ7l06LN2J3m8vXafvdOSJI0yzvDO88A7qurZJOcBn0vyv9q2X6qqPzit/dXAtva6DLgLuCzJhcDtwDRQwENJDlbV06txIpKkpS0Z+jX4n9Ofbavntddi/5v6LuCett/nk1yQZCPwduBwVZ0ESHIY2Al8YuXdl77NZzLS0sYa00+yLskR4ASD4P5C23RHG8K5M8n5rbYJeHJo97lWW6h++rH2JJlJMjM/P7/M05EkLWas0K+qF6tqO7AZ2JHk3wLvAf4N8EPAhcAvt+YZ9RGL1E8/1t6qmq6q6ampkX8OWpK0QsuavVNVXwf+HNhZVcdr4HngY8CO1mwO2DK022bg2CJ1SdKEjDN7ZyrJBW35tcA7gb9p4/QkCXAt8Ejb5SBwY5vFcznwTFUdB+4DrkyyIckG4MpWkyRNyDizdzYC+5OsY/AlcaCq/jjJnyWZYjBscwT42db+EHANMAs8B9wEUFUnk3wAeLC1e/+ph7qSpMkYZ/bOw8BbR9TfsUD7Am5ZYNs+YN8y+yhJWiX+IleSOmLoS1JHDH1J6oihL0kdMfQlqSOGviR1xNCXpI4Y+pLUEUNfkjpi6EtSRwx9SeqIoS9JHTH0Jakjhr4kdcTQl6SOGPqS1BFDX5I6YuhLUkcMfUnqyJKhn+Q1SR5I8tdJjiZ5X6tfnOQLSR5P8j+SvLrVz2/rs2371qHPek+rP5bkqrN1UpKk0ca5038eeEdV/SCwHdiZ5HLg14E7q2ob8DRwc2t/M/B0Vf1r4M7WjiSXANcDbwF2Ar+dZN1qnowkaXFLhn4NPNtWz2uvAt4B/EGr7weubcu72jpt+xVJ0ur3VtXzVfVlYBbYsSpnIUkay1hj+knWJTkCnAAOA/8X+HpVvdCazAGb2vIm4EmAtv0Z4A3D9RH7SJImYKzQr6oXq2o7sJnB3fmbRzVr71lg20L1l0iyJ8lMkpn5+flxuidJGtOyZu9U1deBPwcuBy5Isr5t2gwca8tzwBaAtv1fACeH6yP2GT7G3qqarqrpqamp5XRPkrSEcWbvTCW5oC2/Fngn8CjwGeDHW7PdwKfb8sG2Ttv+Z1VVrX59m91zMbANeGC1TkSStLT1SzdhI7C/zbR5FXCgqv44yZeAe5P8GvBXwN2t/d3A7yaZZXCHfz1AVR1NcgD4EvACcEtVvbi6pyNJWsySoV9VDwNvHVF/ghGzb6rq/wHXLfBZdwB3LL+bkqTV4C9yJakjhr4kdcTQl6SOGPqS1BFDX5I6YuhLUkcMfUnqiKEvSR0x9CWpI4a+JHXE0Jekjhj6ktQRQ1+SOmLoS1JHDH1J6oihL0kdMfQlqSOGviR1xNCXpI4Y+pLUkSVDP8mWJJ9J8miSo0ne3ervTfJ3SY601zVD+7wnyWySx5JcNVTf2WqzSW47O6ckSVrI+jHavAD8YlX9ZZLXAw8lOdy23VlV/2W4cZJLgOuBtwDfA/zvJN/fNn8U+I/AHPBgkoNV9aXVOBFJ0tKWDP2qOg4cb8v/mORRYNMiu+wC7q2q54EvJ5kFdrRts1X1BECSe1tbQ1+SJmRZY/pJtgJvBb7QSrcmeTjJviQbWm0T8OTQbnOttlBdkjQhY4d+ku8CPgn8fFV9A7gL+D5gO4N/CXzoVNMRu9ci9dOPsyfJTJKZ+fn5cbsnSRrDWKGf5DwGgf97VfWHAFX1VFW9WFXfAn6Hbw/hzAFbhnbfDBxbpP4SVbW3qqaranpqamq55yNJWsQ4s3cC3A08WlUfHqpvHGr2LuCRtnwQuD7J+UkuBrYBDwAPAtuSXJzk1Qwe9h5cndOQJI1jnNk7bwN+GvhikiOt9ivADUm2Mxii+QrwMwBVdTTJAQYPaF8AbqmqFwGS3ArcB6wD9lXV0VU8F0nSEsaZvfM5Ro/HH1pknzuAO0bUDy22nyTp7PIXuZLUEUNfkjpi6EtSRwx9SeqIoS9JHTH0Jakjhr4kdcTQl6SOGPqS1BFDX5I6YuhLUkcMfUnqiKEvSR0x9CWpI4a+JHXE0Jekjhj6ktQRQ1+SOmLoS1JHDH1J6siSoZ9kS5LPJHk0ydEk7271C5McTvJ4e9/Q6knykSSzSR5OcunQZ+1u7R9PsvvsnZYkaZRx7vRfAH6xqt4MXA7ckuQS4Dbg/qraBtzf1gGuBra11x7gLhh8SQC3A5cBO4DbT31RSJImY8nQr6rjVfWXbfkfgUeBTcAuYH9rth+4ti3vAu6pgc8DFyTZCFwFHK6qk1X1NHAY2LmqZyNJWtSyxvSTbAXeCnwBeFNVHYfBFwPwxtZsE/Dk0G5zrbZQXZI0IWOHfpLvAj4J/HxVfWOxpiNqtUj99OPsSTKTZGZ+fn7c7kmSxjBW6Cc5j0Hg/15V/WErP9WGbWjvJ1p9DtgytPtm4Ngi9Zeoqr1VNV1V01NTU8s5F0nSEsaZvRPgbuDRqvrw0KaDwKkZOLuBTw/Vb2yzeC4HnmnDP/cBVybZ0B7gXtlqkqQJWT9Gm7cBPw18McmRVvsV4IPAgSQ3A18FrmvbDgHXALPAc8BNAFV1MskHgAdbu/dX1clVOQtJ0liWDP2q+hyjx+MBrhjRvoBbFvisfcC+5XRQkrR6/EWuJHXE0Jekjhj6ktQRQ1+SOmLoS1JHDH1J6oihL0kdMfQlqSOGviR1xNCXpI4Y+pLUEUNfkjpi6EtSRwx9SeqIoS9JHTH0Jakjhr4kdcTQl6SOGPqS1BFDX5I6smToJ9mX5ESSR4Zq703yd0mOtNc1Q9vek2Q2yWNJrhqq72y12SS3rf6pSJKWMs6d/seBnSPqd1bV9vY6BJDkEuB64C1tn99Osi7JOuCjwNXAJcANra0kaYLWL9Wgqj6bZOuYn7cLuLeqnge+nGQW2NG2zVbVEwBJ7m1tv7TsHkuSVuxMxvRvTfJwG/7Z0GqbgCeH2sy12kJ1SdIErTT07wK+D9gOHAc+1OoZ0bYWqb9Mkj1JZpLMzM/Pr7B7kqRRVhT6VfVUVb1YVd8CfodvD+HMAVuGmm4Gji1SH/XZe6tquqqmp6amVtI9SdICVhT6STYOrb4LODWz5yBwfZLzk1wMbAMeAB4EtiW5OMmrGTzsPbjybkuSVmLJB7lJPgG8HbgoyRxwO/D2JNsZDNF8BfgZgKo6muQAgwe0LwC3VNWL7XNuBe4D1gH7quroqp+NJGlR48zeuWFE+e5F2t8B3DGifgg4tKzeSZJWlb/IlaSOGPqS1BFDX5I6YuhLUkcMfUnqiKEvSR0x9CWpI4a+JHXE0Jekjhj6ktQRQ1+SOmLoS1JHDH1J6oihL0kdMfQlqSOGviR1xNCXpI4Y+pLUEUNfkjpi6EtSR5YM/ST7kpxI8shQ7cIkh5M83t43tHqSfCTJbJKHk1w6tM/u1v7xJLvPzulIkhYzzp3+x4Gdp9VuA+6vqm3A/W0d4GpgW3vtAe6CwZcEcDtwGbADuP3UF4UkaXKWDP2q+ixw8rTyLmB/W94PXDtUv6cGPg9ckGQjcBVwuKpOVtXTwGFe/kUiSTrLVjqm/6aqOg7Q3t/Y6puAJ4fazbXaQnVJ0gSt9oPcjKjVIvWXf0CyJ8lMkpn5+flV7Zwk9W6lof9UG7ahvZ9o9Tlgy1C7zcCxReovU1V7q2q6qqanpqZW2D1J0igrDf2DwKkZOLuBTw/Vb2yzeC4HnmnDP/cBVybZ0B7gXtlqkqQJWr9UgySfAN4OXJRkjsEsnA8CB5LcDHwVuK41PwRcA8wCzwE3AVTVySQfAB5s7d5fVac/HJYknWVLhn5V3bDApitGtC3glgU+Zx+wb1m9kyStKn+RK0kdMfQlqSOGviR1xNCXpI4Y+pLUEUNfkjpi6EtSRwx9SeqIoS9JHTH0Jakjhr4kdcTQl6SOGPqS1BFDX5I6YuhLUkcMfUnqiKEvSR0x9CWpI4a+JHXE0JekjpxR6Cf5SpIvJjmSZKbVLkxyOMnj7X1DqyfJR5LMJnk4yaWrcQKSpPGtxp3+f6iq7VU13dZvA+6vqm3A/W0d4GpgW3vtAe5ahWNLkpbhbAzv7AL2t+X9wLVD9Xtq4PPABUk2noXjS5IWcKahX8CfJnkoyZ5We1NVHQdo729s9U3Ak0P7zrXaSyTZk2Qmycz8/PwZdk+SNGz9Ge7/tqo6luSNwOEkf7NI24yo1csKVXuBvQDT09Mv2y5JWrkzutOvqmPt/QTwKWAH8NSpYZv2fqI1nwO2DO2+GTh2JseXJC3PikM/yeuSvP7UMnAl8AhwENjdmu0GPt2WDwI3tlk8lwPPnBoGkiRNxpkM77wJ+FSSU5/z+1X1J0keBA4kuRn4KnBda38IuAaYBZ4DbjqDY0uSVmDFoV9VTwA/OKL+D8AVI+oF3LLS40mSzpy/yJWkjhj6ktQRQ1+SOmLoS1JHDH1J6oihL0kdMfQlqSOGviR1xNCXpI4Y+pLUEUNfkjpi6EtSRwx9SeqIoS9JHTH0Jakjhr4kdcTQl6SOGPqS1BFDX5I6YuhLUkcmHvpJdiZ5LMlsktsmfXxJ6tlEQz/JOuCjwNXAJcANSS6ZZB8kqWeTvtPfAcxW1RNV9f+Be4FdE+6DJHVr/YSPtwl4cmh9DrhsuEGSPcCetvpskscm1Le1cBHwtUkdLL8+qSN1w+t37protVsD/2qhDZMO/Yyo1UtWqvYCeyfTnbWVZKaqpte6H1oZr9+5q+drN+nhnTlgy9D6ZuDYhPsgSd2adOg/CGxLcnGSVwPXAwcn3AdJ6tZEh3eq6oUktwL3AeuAfVV1dJJ9eIXpYhjrO5jX79zV7bVLVS3dSpL0HcFf5EpSRwx9SeqIoS9JHTH0JyjJrUm+uy3/9yQPJLlirfslqR+G/mTtqapvJLmSwa+Tfw74jTXuk5YhyeYkn0oyn+SpJJ9Msnmt+6Wlee0GDP3JOjVV6mrgY1X1EF6Dc83HGPy2ZCODL+4/ajW98nntcMrmRCW5h8Hf/Ph+4AcYBP5nq+rSNe2YxpbkSFVtX6qmVx6v3YB3mZN1E/BeYEdVPQe8Brh5TXuk5fpakp9Ksq69fgr4h7XulMbitcPQn6iqehH4XgZj+QCvxWtwrvlPwE8Afw8cB3681fTKN3zt/p5Or53DOxOU5LeA84B/X1VvTnIhcF9V/dAad01SJyb9p5V79yNVdWmSvwKoqpPtD8/pFS7Jry6yuarqAxPrjFakzdT5b8DbGEyq+Bzw7qqaW9OOTZhDC5P1zSSvos3iSfIG4Ftr2yWN6Z9GvGDwTOaX16pTWpZTs3e+B2fvaBKS3Ai8C5gG9jEYX3xfVd27ph3TsiR5PfBuBoF/APhQVZ1Y215pKc7eGXB4ZwKSHAL+c1Xdk+Qh4J0M/hex66rqkbXtncbVnsH8AvCTwH7g0qp6em17pWX4Wpux84m2fgMdzt7xTn8CkvwE8GsMguI3quqba9wlLVOS3wR+jMHfYf9oVT27xl3SMiX5l8BvAT/MYIj1/zAY0//bNe3YhBn6E5LkdcCvAjuB32VoLL+qPrxW/dJ4knwLeB54gZf+v85h8CD3u9ekY9IyObwzOd9k8PDvfOD1+AD3nFJVTno4Rznz6qUM/QlIshP4MIOZA5e2X+NKmox/GlF7HYMH8W8Augp9h3cmIMlfAD/b+f8HLK05Z14Z+pI6MGLm1X/tdeaVwzuSvqOdNvPq3/U+88o7fUnf0Zx59VKGviR1xGloktQRQ1+SOmLoS1JHDH1J6oihL0kd+WeN1RpqgoxbvQAAAABJRU5ErkJggg==\n",
      "text/plain": [
       "<Figure size 432x288 with 1 Axes>"
      ]
     },
     "metadata": {
      "needs_background": "light"
     },
     "output_type": "display_data"
    }
   ],
   "source": [
    "df['PARK_FACIL'].value_counts().plot.bar()"
   ]
  },
  {
   "cell_type": "code",
   "execution_count": 35,
   "metadata": {},
   "outputs": [
    {
     "data": {
      "text/plain": [
       "House         34.378956\n",
       "Commercial    32.705022\n",
       "Others        32.494022\n",
       "Other          0.365734\n",
       "Comercial      0.056267\n",
       "Name: BUILDTYPE, dtype: float64"
      ]
     },
     "execution_count": 35,
     "metadata": {},
     "output_type": "execute_result"
    }
   ],
   "source": [
    "df['BUILDTYPE'].value_counts()/len(df['BUILDTYPE'])*100"
   ]
  },
  {
   "cell_type": "code",
   "execution_count": 36,
   "metadata": {},
   "outputs": [
    {
     "data": {
      "text/plain": [
       "<matplotlib.axes._subplots.AxesSubplot at 0x1b0cc793cc8>"
      ]
     },
     "execution_count": 36,
     "metadata": {},
     "output_type": "execute_result"
    },
    {
     "data": {
      "image/png": "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\n",
      "text/plain": [
       "<Figure size 432x288 with 1 Axes>"
      ]
     },
     "metadata": {
      "needs_background": "light"
     },
     "output_type": "display_data"
    }
   ],
   "source": [
    "df['BUILDTYPE'].value_counts().plot.bar()"
   ]
  },
  {
   "cell_type": "code",
   "execution_count": 37,
   "metadata": {},
   "outputs": [
    {
     "data": {
      "text/plain": [
       "AllPub     26.529751\n",
       "NoSeWa     26.318751\n",
       "NoSewr     25.727950\n",
       "ELO        21.409481\n",
       "All Pub     0.014067\n",
       "Name: UTILITY_AVAIL, dtype: float64"
      ]
     },
     "execution_count": 37,
     "metadata": {},
     "output_type": "execute_result"
    }
   ],
   "source": [
    "df['UTILITY_AVAIL'].value_counts()/len(df['UTILITY_AVAIL'])*100"
   ]
  },
  {
   "cell_type": "code",
   "execution_count": 38,
   "metadata": {},
   "outputs": [
    {
     "data": {
      "text/plain": [
       "<matplotlib.axes._subplots.AxesSubplot at 0x1b0cc801908>"
      ]
     },
     "execution_count": 38,
     "metadata": {},
     "output_type": "execute_result"
    },
    {
     "data": {
      "image/png": "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\n",
      "text/plain": [
       "<Figure size 432x288 with 1 Axes>"
      ]
     },
     "metadata": {
      "needs_background": "light"
     },
     "output_type": "display_data"
    }
   ],
   "source": [
    "df['UTILITY_AVAIL'].value_counts().plot.bar()"
   ]
  },
  {
   "cell_type": "code",
   "execution_count": 39,
   "metadata": {},
   "outputs": [
    {
     "data": {
      "text/plain": [
       "Paved        36.010691\n",
       "Gravel       35.448024\n",
       "No Access    28.274019\n",
       "Pavd          0.168800\n",
       "NoAccess      0.098467\n",
       "Name: STREET, dtype: float64"
      ]
     },
     "execution_count": 39,
     "metadata": {},
     "output_type": "execute_result"
    }
   ],
   "source": [
    "df['STREET'].value_counts()/len(df['STREET'])*100"
   ]
  },
  {
   "cell_type": "code",
   "execution_count": 40,
   "metadata": {},
   "outputs": [
    {
     "data": {
      "text/plain": [
       "<matplotlib.axes._subplots.AxesSubplot at 0x1b0cc7f0e48>"
      ]
     },
     "execution_count": 40,
     "metadata": {},
     "output_type": "execute_result"
    },
    {
     "data": {
      "image/png": "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\n",
      "text/plain": [
       "<Figure size 432x288 with 1 Axes>"
      ]
     },
     "metadata": {
      "needs_background": "light"
     },
     "output_type": "display_data"
    }
   ],
   "source": [
    "df['STREET'].value_counts().plot.bar()"
   ]
  },
  {
   "cell_type": "code",
   "execution_count": 41,
   "metadata": {},
   "outputs": [
    {
     "data": {
      "text/plain": [
       "RL    26.135884\n",
       "RH    25.629484\n",
       "RM    25.559150\n",
       "C      7.736672\n",
       "A      7.553805\n",
       "I      7.385005\n",
       "Name: MZZONE, dtype: float64"
      ]
     },
     "execution_count": 41,
     "metadata": {},
     "output_type": "execute_result"
    }
   ],
   "source": [
    "df['MZZONE'].value_counts()/len(df['MZZONE'])*100"
   ]
  },
  {
   "cell_type": "code",
   "execution_count": 42,
   "metadata": {},
   "outputs": [
    {
     "data": {
      "text/plain": [
       "<matplotlib.axes._subplots.AxesSubplot at 0x1b0cc8dec48>"
      ]
     },
     "execution_count": 42,
     "metadata": {},
     "output_type": "execute_result"
    },
    {
     "data": {
      "image/png": "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\n",
      "text/plain": [
       "<Figure size 432x288 with 1 Axes>"
      ]
     },
     "metadata": {
      "needs_background": "light"
     },
     "output_type": "display_data"
    }
   ],
   "source": [
    "df['MZZONE'].value_counts().plot.bar()"
   ]
  },
  {
   "cell_type": "markdown",
   "metadata": {},
   "source": [
    "# DATA MANIPULATION \n",
    "### 1-> DROP DUPLICATES\n",
    "### 2-> FILL THE MISSING VALUES\n",
    "### 3-> CORRECT THE DATA TYPES\n",
    "### 4-> FIXING SPELLING ERRORS"
   ]
  },
  {
   "cell_type": "code",
   "execution_count": 43,
   "metadata": {},
   "outputs": [
    {
     "data": {
      "text/plain": [
       "(7109, 19)"
      ]
     },
     "execution_count": 43,
     "metadata": {},
     "output_type": "execute_result"
    }
   ],
   "source": [
    "df.shape"
   ]
  },
  {
   "cell_type": "code",
   "execution_count": 44,
   "metadata": {},
   "outputs": [
    {
     "data": {
      "text/plain": [
       "(7109, 19)"
      ]
     },
     "execution_count": 44,
     "metadata": {},
     "output_type": "execute_result"
    }
   ],
   "source": [
    "df.drop_duplicates().shape"
   ]
  },
  {
   "cell_type": "code",
   "execution_count": 45,
   "metadata": {},
   "outputs": [
    {
     "data": {
      "text/plain": [
       "(17, 19)"
      ]
     },
     "execution_count": 45,
     "metadata": {},
     "output_type": "execute_result"
    }
   ],
   "source": [
    "df.drop_duplicates(subset='AREA').shape"
   ]
  },
  {
   "cell_type": "markdown",
   "metadata": {},
   "source": [
    "MISSING VALUES"
   ]
  },
  {
   "cell_type": "code",
   "execution_count": 46,
   "metadata": {},
   "outputs": [
    {
     "data": {
      "text/plain": [
       "PRT_ID            0\n",
       "AREA              0\n",
       "INT_SQFT          0\n",
       "DIST_MAINROAD     0\n",
       "N_BEDROOM         1\n",
       "N_BATHROOM        5\n",
       "N_ROOM            0\n",
       "SALE_COND         0\n",
       "PARK_FACIL        0\n",
       "BUILDTYPE         0\n",
       "UTILITY_AVAIL     0\n",
       "STREET            0\n",
       "MZZONE            0\n",
       "QS_ROOMS          0\n",
       "QS_BATHROOM       0\n",
       "QS_BEDROOM        0\n",
       "QS_OVERALL       48\n",
       "COMMIS            0\n",
       "SALES_PRICE       0\n",
       "dtype: int64"
      ]
     },
     "execution_count": 46,
     "metadata": {},
     "output_type": "execute_result"
    }
   ],
   "source": [
    "df.isnull().sum()"
   ]
  },
  {
   "cell_type": "code",
   "execution_count": 47,
   "metadata": {},
   "outputs": [
    {
     "data": {
      "text/plain": [
       "(7056, 19)"
      ]
     },
     "execution_count": 47,
     "metadata": {},
     "output_type": "execute_result"
    }
   ],
   "source": [
    "df.dropna(axis=0,how='any').shape"
   ]
  },
  {
   "cell_type": "code",
   "execution_count": 48,
   "metadata": {},
   "outputs": [
    {
     "data": {
      "text/plain": [
       "(7109, 16)"
      ]
     },
     "execution_count": 48,
     "metadata": {},
     "output_type": "execute_result"
    }
   ],
   "source": [
    "df.dropna(axis=1,how='any').shape"
   ]
  },
  {
   "cell_type": "code",
   "execution_count": 49,
   "metadata": {},
   "outputs": [],
   "source": [
    "df['N_BEDROOM']=df['N_BEDROOM'].fillna(value=df['N_BEDROOM'].mode()[0])"
   ]
  },
  {
   "cell_type": "code",
   "execution_count": 50,
   "metadata": {},
   "outputs": [
    {
     "data": {
      "text/plain": [
       "PRT_ID            0\n",
       "AREA              0\n",
       "INT_SQFT          0\n",
       "DIST_MAINROAD     0\n",
       "N_BEDROOM         0\n",
       "N_BATHROOM        5\n",
       "N_ROOM            0\n",
       "SALE_COND         0\n",
       "PARK_FACIL        0\n",
       "BUILDTYPE         0\n",
       "UTILITY_AVAIL     0\n",
       "STREET            0\n",
       "MZZONE            0\n",
       "QS_ROOMS          0\n",
       "QS_BATHROOM       0\n",
       "QS_BEDROOM        0\n",
       "QS_OVERALL       48\n",
       "COMMIS            0\n",
       "SALES_PRICE       0\n",
       "dtype: int64"
      ]
     },
     "execution_count": 50,
     "metadata": {},
     "output_type": "execute_result"
    }
   ],
   "source": [
    "df.isnull().sum()"
   ]
  },
  {
   "cell_type": "code",
   "execution_count": 51,
   "metadata": {},
   "outputs": [],
   "source": [
    "df['N_BATHROOM']=df['N_BATHROOM'].fillna(value=df['N_BATHROOM'].mode()[0])"
   ]
  },
  {
   "cell_type": "code",
   "execution_count": 52,
   "metadata": {},
   "outputs": [
    {
     "data": {
      "text/plain": [
       "PRT_ID            0\n",
       "AREA              0\n",
       "INT_SQFT          0\n",
       "DIST_MAINROAD     0\n",
       "N_BEDROOM         0\n",
       "N_BATHROOM        0\n",
       "N_ROOM            0\n",
       "SALE_COND         0\n",
       "PARK_FACIL        0\n",
       "BUILDTYPE         0\n",
       "UTILITY_AVAIL     0\n",
       "STREET            0\n",
       "MZZONE            0\n",
       "QS_ROOMS          0\n",
       "QS_BATHROOM       0\n",
       "QS_BEDROOM        0\n",
       "QS_OVERALL       48\n",
       "COMMIS            0\n",
       "SALES_PRICE       0\n",
       "dtype: int64"
      ]
     },
     "execution_count": 52,
     "metadata": {},
     "output_type": "execute_result"
    }
   ],
   "source": [
    "df.isnull().sum()"
   ]
  },
  {
   "cell_type": "code",
   "execution_count": 53,
   "metadata": {},
   "outputs": [],
   "source": [
    "df['QS_OVERALL']=df['QS_OVERALL'].fillna(value=df['QS_OVERALL'].mean())"
   ]
  },
  {
   "cell_type": "code",
   "execution_count": 54,
   "metadata": {},
   "outputs": [
    {
     "data": {
      "text/plain": [
       "PRT_ID           0\n",
       "AREA             0\n",
       "INT_SQFT         0\n",
       "DIST_MAINROAD    0\n",
       "N_BEDROOM        0\n",
       "N_BATHROOM       0\n",
       "N_ROOM           0\n",
       "SALE_COND        0\n",
       "PARK_FACIL       0\n",
       "BUILDTYPE        0\n",
       "UTILITY_AVAIL    0\n",
       "STREET           0\n",
       "MZZONE           0\n",
       "QS_ROOMS         0\n",
       "QS_BATHROOM      0\n",
       "QS_BEDROOM       0\n",
       "QS_OVERALL       0\n",
       "COMMIS           0\n",
       "SALES_PRICE      0\n",
       "dtype: int64"
      ]
     },
     "execution_count": 54,
     "metadata": {},
     "output_type": "execute_result"
    }
   ],
   "source": [
    "df.isnull().sum()"
   ]
  },
  {
   "cell_type": "code",
   "execution_count": 55,
   "metadata": {},
   "outputs": [],
   "source": [
    "check['null count']=df.isnull().sum()"
   ]
  },
  {
   "cell_type": "code",
   "execution_count": 56,
   "metadata": {},
   "outputs": [
    {
     "data": {
      "text/html": [
       "<div>\n",
       "<style scoped>\n",
       "    .dataframe tbody tr th:only-of-type {\n",
       "        vertical-align: middle;\n",
       "    }\n",
       "\n",
       "    .dataframe tbody tr th {\n",
       "        vertical-align: top;\n",
       "    }\n",
       "\n",
       "    .dataframe thead th {\n",
       "        text-align: right;\n",
       "    }\n",
       "</style>\n",
       "<table border=\"1\" class=\"dataframe\">\n",
       "  <thead>\n",
       "    <tr style=\"text-align: right;\">\n",
       "      <th></th>\n",
       "      <th>Unique count</th>\n",
       "      <th>d types</th>\n",
       "      <th>null count</th>\n",
       "    </tr>\n",
       "  </thead>\n",
       "  <tbody>\n",
       "    <tr>\n",
       "      <td>PRT_ID</td>\n",
       "      <td>7109</td>\n",
       "      <td>object</td>\n",
       "      <td>0</td>\n",
       "    </tr>\n",
       "    <tr>\n",
       "      <td>AREA</td>\n",
       "      <td>17</td>\n",
       "      <td>object</td>\n",
       "      <td>0</td>\n",
       "    </tr>\n",
       "    <tr>\n",
       "      <td>INT_SQFT</td>\n",
       "      <td>1699</td>\n",
       "      <td>int64</td>\n",
       "      <td>0</td>\n",
       "    </tr>\n",
       "    <tr>\n",
       "      <td>DIST_MAINROAD</td>\n",
       "      <td>201</td>\n",
       "      <td>int64</td>\n",
       "      <td>0</td>\n",
       "    </tr>\n",
       "    <tr>\n",
       "      <td>N_BEDROOM</td>\n",
       "      <td>4</td>\n",
       "      <td>float64</td>\n",
       "      <td>0</td>\n",
       "    </tr>\n",
       "    <tr>\n",
       "      <td>N_BATHROOM</td>\n",
       "      <td>2</td>\n",
       "      <td>float64</td>\n",
       "      <td>0</td>\n",
       "    </tr>\n",
       "    <tr>\n",
       "      <td>N_ROOM</td>\n",
       "      <td>5</td>\n",
       "      <td>int64</td>\n",
       "      <td>0</td>\n",
       "    </tr>\n",
       "    <tr>\n",
       "      <td>SALE_COND</td>\n",
       "      <td>9</td>\n",
       "      <td>object</td>\n",
       "      <td>0</td>\n",
       "    </tr>\n",
       "    <tr>\n",
       "      <td>PARK_FACIL</td>\n",
       "      <td>3</td>\n",
       "      <td>object</td>\n",
       "      <td>0</td>\n",
       "    </tr>\n",
       "    <tr>\n",
       "      <td>BUILDTYPE</td>\n",
       "      <td>5</td>\n",
       "      <td>object</td>\n",
       "      <td>0</td>\n",
       "    </tr>\n",
       "    <tr>\n",
       "      <td>UTILITY_AVAIL</td>\n",
       "      <td>5</td>\n",
       "      <td>object</td>\n",
       "      <td>0</td>\n",
       "    </tr>\n",
       "    <tr>\n",
       "      <td>STREET</td>\n",
       "      <td>5</td>\n",
       "      <td>object</td>\n",
       "      <td>0</td>\n",
       "    </tr>\n",
       "    <tr>\n",
       "      <td>MZZONE</td>\n",
       "      <td>6</td>\n",
       "      <td>object</td>\n",
       "      <td>0</td>\n",
       "    </tr>\n",
       "    <tr>\n",
       "      <td>QS_ROOMS</td>\n",
       "      <td>31</td>\n",
       "      <td>float64</td>\n",
       "      <td>0</td>\n",
       "    </tr>\n",
       "    <tr>\n",
       "      <td>QS_BATHROOM</td>\n",
       "      <td>31</td>\n",
       "      <td>float64</td>\n",
       "      <td>0</td>\n",
       "    </tr>\n",
       "    <tr>\n",
       "      <td>QS_BEDROOM</td>\n",
       "      <td>31</td>\n",
       "      <td>float64</td>\n",
       "      <td>0</td>\n",
       "    </tr>\n",
       "    <tr>\n",
       "      <td>QS_OVERALL</td>\n",
       "      <td>479</td>\n",
       "      <td>float64</td>\n",
       "      <td>0</td>\n",
       "    </tr>\n",
       "    <tr>\n",
       "      <td>COMMIS</td>\n",
       "      <td>7011</td>\n",
       "      <td>int64</td>\n",
       "      <td>0</td>\n",
       "    </tr>\n",
       "    <tr>\n",
       "      <td>SALES_PRICE</td>\n",
       "      <td>7057</td>\n",
       "      <td>int64</td>\n",
       "      <td>0</td>\n",
       "    </tr>\n",
       "  </tbody>\n",
       "</table>\n",
       "</div>"
      ],
      "text/plain": [
       "               Unique count  d types  null count\n",
       "PRT_ID                 7109   object           0\n",
       "AREA                     17   object           0\n",
       "INT_SQFT               1699    int64           0\n",
       "DIST_MAINROAD           201    int64           0\n",
       "N_BEDROOM                 4  float64           0\n",
       "N_BATHROOM                2  float64           0\n",
       "N_ROOM                    5    int64           0\n",
       "SALE_COND                 9   object           0\n",
       "PARK_FACIL                3   object           0\n",
       "BUILDTYPE                 5   object           0\n",
       "UTILITY_AVAIL             5   object           0\n",
       "STREET                    5   object           0\n",
       "MZZONE                    6   object           0\n",
       "QS_ROOMS                 31  float64           0\n",
       "QS_BATHROOM              31  float64           0\n",
       "QS_BEDROOM               31  float64           0\n",
       "QS_OVERALL              479  float64           0\n",
       "COMMIS                 7011    int64           0\n",
       "SALES_PRICE            7057    int64           0"
      ]
     },
     "execution_count": 56,
     "metadata": {},
     "output_type": "execute_result"
    }
   ],
   "source": [
    "check"
   ]
  },
  {
   "cell_type": "code",
   "execution_count": 57,
   "metadata": {},
   "outputs": [],
   "source": [
    "df=df.astype({'N_BEDROOM':'object','N_BATHROOM':'object','N_ROOM':'object'})"
   ]
  },
  {
   "cell_type": "code",
   "execution_count": 58,
   "metadata": {},
   "outputs": [
    {
     "data": {
      "text/plain": [
       "PRT_ID            object\n",
       "AREA              object\n",
       "INT_SQFT           int64\n",
       "DIST_MAINROAD      int64\n",
       "N_BEDROOM         object\n",
       "N_BATHROOM        object\n",
       "N_ROOM            object\n",
       "SALE_COND         object\n",
       "PARK_FACIL        object\n",
       "BUILDTYPE         object\n",
       "UTILITY_AVAIL     object\n",
       "STREET            object\n",
       "MZZONE            object\n",
       "QS_ROOMS         float64\n",
       "QS_BATHROOM      float64\n",
       "QS_BEDROOM       float64\n",
       "QS_OVERALL       float64\n",
       "COMMIS             int64\n",
       "SALES_PRICE        int64\n",
       "dtype: object"
      ]
     },
     "execution_count": 58,
     "metadata": {},
     "output_type": "execute_result"
    }
   ],
   "source": [
    "df.dtypes"
   ]
  },
  {
   "cell_type": "code",
   "execution_count": 59,
   "metadata": {},
   "outputs": [
    {
     "name": "stdout",
     "output_type": "stream",
     "text": [
      "-----------------value count in  AREA  -----------------\n",
      "Chrompet      1681\n",
      "Karapakkam    1363\n",
      "KK Nagar       996\n",
      "Velachery      979\n",
      "Anna Nagar     783\n",
      "Adyar          773\n",
      "T Nagar        496\n",
      "Chrompt          9\n",
      "Chrmpet          6\n",
      "Chormpet         6\n",
      "TNagar           5\n",
      "Ana Nagar        3\n",
      "Karapakam        3\n",
      "Ann Nagar        2\n",
      "Velchery         2\n",
      "Adyr             1\n",
      "KKNagar          1\n",
      "Name: AREA, dtype: int64\n",
      " \n",
      "-----------------value count in  N_BEDROOM  -----------------\n",
      "1.0    3796\n",
      "2.0    2352\n",
      "3.0     707\n",
      "4.0     254\n",
      "Name: N_BEDROOM, dtype: int64\n",
      " \n",
      "-----------------value count in  N_BATHROOM  -----------------\n",
      "1.0    5594\n",
      "2.0    1515\n",
      "Name: N_BATHROOM, dtype: int64\n",
      " \n",
      "-----------------value count in  N_ROOM  -----------------\n",
      "4    2563\n",
      "3    2125\n",
      "5    1246\n",
      "2     921\n",
      "6     254\n",
      "Name: N_ROOM, dtype: int64\n",
      " \n",
      "-----------------value count in  SALE_COND  -----------------\n",
      "AdjLand        1433\n",
      "Partial        1429\n",
      "Normal Sale    1423\n",
      "AbNormal       1406\n",
      "Family         1403\n",
      "Adj Land          6\n",
      "Ab Normal         5\n",
      "Partiall          3\n",
      "PartiaLl          1\n",
      "Name: SALE_COND, dtype: int64\n",
      " \n",
      "-----------------value count in  PARK_FACIL  -----------------\n",
      "Yes    3587\n",
      "No     3520\n",
      "Noo       2\n",
      "Name: PARK_FACIL, dtype: int64\n",
      " \n",
      "-----------------value count in  BUILDTYPE  -----------------\n",
      "House         2444\n",
      "Commercial    2325\n",
      "Others        2310\n",
      "Other           26\n",
      "Comercial        4\n",
      "Name: BUILDTYPE, dtype: int64\n",
      " \n",
      "-----------------value count in  UTILITY_AVAIL  -----------------\n",
      "AllPub     1886\n",
      "NoSeWa     1871\n",
      "NoSewr     1829\n",
      "ELO        1522\n",
      "All Pub       1\n",
      "Name: UTILITY_AVAIL, dtype: int64\n",
      " \n",
      "-----------------value count in  STREET  -----------------\n",
      "Paved        2560\n",
      "Gravel       2520\n",
      "No Access    2010\n",
      "Pavd           12\n",
      "NoAccess        7\n",
      "Name: STREET, dtype: int64\n",
      " \n",
      "-----------------value count in  MZZONE  -----------------\n",
      "RL    1858\n",
      "RH    1822\n",
      "RM    1817\n",
      "C      550\n",
      "A      537\n",
      "I      525\n",
      "Name: MZZONE, dtype: int64\n",
      " \n"
     ]
    }
   ],
   "source": [
    "temp=['AREA','N_BEDROOM','N_BATHROOM','N_ROOM','SALE_COND','PARK_FACIL','BUILDTYPE','UTILITY_AVAIL','STREET','MZZONE']\n",
    "for i in temp:\n",
    "    print('-----------------value count in ',i,' -----------------')\n",
    "    print(df[i].value_counts())\n",
    "    print(\" \")"
   ]
  },
  {
   "cell_type": "code",
   "execution_count": 60,
   "metadata": {},
   "outputs": [],
   "source": [
    "df['SALE_COND'].replace({'Adj Land':'AdjLand','Ab Normal':'AbNormal','Partiall':'Partial'},inplace=True)"
   ]
  },
  {
   "cell_type": "code",
   "execution_count": 61,
   "metadata": {},
   "outputs": [],
   "source": [
    "df['SALE_COND'].replace({'PartiaLl':'Partial'},inplace=True)"
   ]
  },
  {
   "cell_type": "code",
   "execution_count": 62,
   "metadata": {},
   "outputs": [],
   "source": [
    "df['PARK_FACIL'].replace({'Noo':'No'},inplace=True)"
   ]
  },
  {
   "cell_type": "code",
   "execution_count": 63,
   "metadata": {},
   "outputs": [],
   "source": [
    "df['BUILDTYPE'].replace({'Other':'Others','Comercial':'Commercial'},inplace=True)"
   ]
  },
  {
   "cell_type": "code",
   "execution_count": 64,
   "metadata": {},
   "outputs": [],
   "source": [
    "df['UTILITY_AVAIL'].replace({'All Pub':'AllPub'},inplace=True)"
   ]
  },
  {
   "cell_type": "code",
   "execution_count": 65,
   "metadata": {},
   "outputs": [],
   "source": [
    "df['STREET'].replace({'Pavd':'Paved','NoAccess':'No Access'},inplace=True)"
   ]
  },
  {
   "cell_type": "code",
   "execution_count": 66,
   "metadata": {},
   "outputs": [],
   "source": [
    "df['AREA'].replace({'Adyr':'Adyar',\n",
    "                    'Ann Nagar':'Ana Nagar','Anna Nagar':'Ana Nagar',\n",
    "                    'Chrmpet':'Chrompet','Chormpet':'Chrompet','Chrompt':'Chrompet',\n",
    "                   'KK Nagar':'KKNagar',\n",
    "                    'karapakkam':'karapakam',\n",
    "                   'T Nagar':'TNagar',\n",
    "                   'Velachery':'Velchery'},inplace=True)"
   ]
  },
  {
   "cell_type": "code",
   "execution_count": 67,
   "metadata": {},
   "outputs": [
    {
     "name": "stdout",
     "output_type": "stream",
     "text": [
      "-----------------value count in  N_BEDROOM  -----------------\n",
      "1.0    3796\n",
      "2.0    2352\n",
      "3.0     707\n",
      "4.0     254\n",
      "Name: N_BEDROOM, dtype: int64\n",
      " \n",
      "-----------------value count in  N_BATHROOM  -----------------\n",
      "1.0    5594\n",
      "2.0    1515\n",
      "Name: N_BATHROOM, dtype: int64\n",
      " \n",
      "-----------------value count in  N_ROOM  -----------------\n",
      "4    2563\n",
      "3    2125\n",
      "5    1246\n",
      "2     921\n",
      "6     254\n",
      "Name: N_ROOM, dtype: int64\n",
      " \n",
      "-----------------value count in  SALE_COND  -----------------\n",
      "AdjLand        1439\n",
      "Partial        1433\n",
      "Normal Sale    1423\n",
      "AbNormal       1411\n",
      "Family         1403\n",
      "Name: SALE_COND, dtype: int64\n",
      " \n",
      "-----------------value count in  PARK_FACIL  -----------------\n",
      "Yes    3587\n",
      "No     3522\n",
      "Name: PARK_FACIL, dtype: int64\n",
      " \n",
      "-----------------value count in  BUILDTYPE  -----------------\n",
      "House         2444\n",
      "Others        2336\n",
      "Commercial    2329\n",
      "Name: BUILDTYPE, dtype: int64\n",
      " \n",
      "-----------------value count in  UTILITY_AVAIL  -----------------\n",
      "AllPub     1887\n",
      "NoSeWa     1871\n",
      "NoSewr     1829\n",
      "ELO        1522\n",
      "Name: UTILITY_AVAIL, dtype: int64\n",
      " \n",
      "-----------------value count in  STREET  -----------------\n",
      "Paved        2572\n",
      "Gravel       2520\n",
      "No Access    2017\n",
      "Name: STREET, dtype: int64\n",
      " \n",
      "-----------------value count in  MZZONE  -----------------\n",
      "RL    1858\n",
      "RH    1822\n",
      "RM    1817\n",
      "C      550\n",
      "A      537\n",
      "I      525\n",
      "Name: MZZONE, dtype: int64\n",
      " \n"
     ]
    }
   ],
   "source": [
    "temp=['N_BEDROOM','N_BATHROOM','N_ROOM','SALE_COND','PARK_FACIL','BUILDTYPE','UTILITY_AVAIL','STREET','MZZONE']\n",
    "for i in temp:\n",
    "    print('-----------------value count in ',i,' -----------------')\n",
    "    print(df[i].value_counts())\n",
    "    print(\" \")"
   ]
  },
  {
   "cell_type": "markdown",
   "metadata": {},
   "source": [
    "# BIVARIATE ANALYSIS:"
   ]
  },
  {
   "cell_type": "code",
   "execution_count": 68,
   "metadata": {},
   "outputs": [
    {
     "data": {
      "text/html": [
       "<div>\n",
       "<style scoped>\n",
       "    .dataframe tbody tr th:only-of-type {\n",
       "        vertical-align: middle;\n",
       "    }\n",
       "\n",
       "    .dataframe tbody tr th {\n",
       "        vertical-align: top;\n",
       "    }\n",
       "\n",
       "    .dataframe thead th {\n",
       "        text-align: right;\n",
       "    }\n",
       "</style>\n",
       "<table border=\"1\" class=\"dataframe\">\n",
       "  <thead>\n",
       "    <tr style=\"text-align: right;\">\n",
       "      <th></th>\n",
       "      <th>Unique count</th>\n",
       "      <th>d types</th>\n",
       "      <th>null count</th>\n",
       "    </tr>\n",
       "  </thead>\n",
       "  <tbody>\n",
       "    <tr>\n",
       "      <td>PRT_ID</td>\n",
       "      <td>7109</td>\n",
       "      <td>object</td>\n",
       "      <td>0</td>\n",
       "    </tr>\n",
       "    <tr>\n",
       "      <td>AREA</td>\n",
       "      <td>17</td>\n",
       "      <td>object</td>\n",
       "      <td>0</td>\n",
       "    </tr>\n",
       "    <tr>\n",
       "      <td>INT_SQFT</td>\n",
       "      <td>1699</td>\n",
       "      <td>int64</td>\n",
       "      <td>0</td>\n",
       "    </tr>\n",
       "    <tr>\n",
       "      <td>DIST_MAINROAD</td>\n",
       "      <td>201</td>\n",
       "      <td>int64</td>\n",
       "      <td>0</td>\n",
       "    </tr>\n",
       "    <tr>\n",
       "      <td>N_BEDROOM</td>\n",
       "      <td>4</td>\n",
       "      <td>float64</td>\n",
       "      <td>0</td>\n",
       "    </tr>\n",
       "    <tr>\n",
       "      <td>N_BATHROOM</td>\n",
       "      <td>2</td>\n",
       "      <td>float64</td>\n",
       "      <td>0</td>\n",
       "    </tr>\n",
       "    <tr>\n",
       "      <td>N_ROOM</td>\n",
       "      <td>5</td>\n",
       "      <td>int64</td>\n",
       "      <td>0</td>\n",
       "    </tr>\n",
       "    <tr>\n",
       "      <td>SALE_COND</td>\n",
       "      <td>9</td>\n",
       "      <td>object</td>\n",
       "      <td>0</td>\n",
       "    </tr>\n",
       "    <tr>\n",
       "      <td>PARK_FACIL</td>\n",
       "      <td>3</td>\n",
       "      <td>object</td>\n",
       "      <td>0</td>\n",
       "    </tr>\n",
       "    <tr>\n",
       "      <td>BUILDTYPE</td>\n",
       "      <td>5</td>\n",
       "      <td>object</td>\n",
       "      <td>0</td>\n",
       "    </tr>\n",
       "    <tr>\n",
       "      <td>UTILITY_AVAIL</td>\n",
       "      <td>5</td>\n",
       "      <td>object</td>\n",
       "      <td>0</td>\n",
       "    </tr>\n",
       "    <tr>\n",
       "      <td>STREET</td>\n",
       "      <td>5</td>\n",
       "      <td>object</td>\n",
       "      <td>0</td>\n",
       "    </tr>\n",
       "    <tr>\n",
       "      <td>MZZONE</td>\n",
       "      <td>6</td>\n",
       "      <td>object</td>\n",
       "      <td>0</td>\n",
       "    </tr>\n",
       "    <tr>\n",
       "      <td>QS_ROOMS</td>\n",
       "      <td>31</td>\n",
       "      <td>float64</td>\n",
       "      <td>0</td>\n",
       "    </tr>\n",
       "    <tr>\n",
       "      <td>QS_BATHROOM</td>\n",
       "      <td>31</td>\n",
       "      <td>float64</td>\n",
       "      <td>0</td>\n",
       "    </tr>\n",
       "    <tr>\n",
       "      <td>QS_BEDROOM</td>\n",
       "      <td>31</td>\n",
       "      <td>float64</td>\n",
       "      <td>0</td>\n",
       "    </tr>\n",
       "    <tr>\n",
       "      <td>QS_OVERALL</td>\n",
       "      <td>479</td>\n",
       "      <td>float64</td>\n",
       "      <td>0</td>\n",
       "    </tr>\n",
       "    <tr>\n",
       "      <td>COMMIS</td>\n",
       "      <td>7011</td>\n",
       "      <td>int64</td>\n",
       "      <td>0</td>\n",
       "    </tr>\n",
       "    <tr>\n",
       "      <td>SALES_PRICE</td>\n",
       "      <td>7057</td>\n",
       "      <td>int64</td>\n",
       "      <td>0</td>\n",
       "    </tr>\n",
       "  </tbody>\n",
       "</table>\n",
       "</div>"
      ],
      "text/plain": [
       "               Unique count  d types  null count\n",
       "PRT_ID                 7109   object           0\n",
       "AREA                     17   object           0\n",
       "INT_SQFT               1699    int64           0\n",
       "DIST_MAINROAD           201    int64           0\n",
       "N_BEDROOM                 4  float64           0\n",
       "N_BATHROOM                2  float64           0\n",
       "N_ROOM                    5    int64           0\n",
       "SALE_COND                 9   object           0\n",
       "PARK_FACIL                3   object           0\n",
       "BUILDTYPE                 5   object           0\n",
       "UTILITY_AVAIL             5   object           0\n",
       "STREET                    5   object           0\n",
       "MZZONE                    6   object           0\n",
       "QS_ROOMS                 31  float64           0\n",
       "QS_BATHROOM              31  float64           0\n",
       "QS_BEDROOM               31  float64           0\n",
       "QS_OVERALL              479  float64           0\n",
       "COMMIS                 7011    int64           0\n",
       "SALES_PRICE            7057    int64           0"
      ]
     },
     "execution_count": 68,
     "metadata": {},
     "output_type": "execute_result"
    }
   ],
   "source": [
    "check"
   ]
  },
  {
   "cell_type": "code",
   "execution_count": 69,
   "metadata": {},
   "outputs": [
    {
     "data": {
      "text/plain": [
       "<matplotlib.axes._subplots.AxesSubplot at 0x1b0cb49a2c8>"
      ]
     },
     "execution_count": 69,
     "metadata": {},
     "output_type": "execute_result"
    },
    {
     "data": {
      "image/png": "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\n",
      "text/plain": [
       "<Figure size 432x288 with 1 Axes>"
      ]
     },
     "metadata": {
      "needs_background": "light"
     },
     "output_type": "display_data"
    }
   ],
   "source": [
    "df.plot.scatter('INT_SQFT','SALES_PRICE')"
   ]
  },
  {
   "cell_type": "code",
   "execution_count": 70,
   "metadata": {},
   "outputs": [
    {
     "data": {
      "image/png": "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\n",
      "text/plain": [
       "<Figure size 432x288 with 1 Axes>"
      ]
     },
     "metadata": {
      "needs_background": "light"
     },
     "output_type": "display_data"
    }
   ],
   "source": [
    "fig,ax=plt.subplots()\n",
    "colors={'House':'green','Others':'red','Commercial':'yellow'}\n",
    "ax.scatter(df['INT_SQFT'],df['SALES_PRICE'],c=df['BUILDTYPE'].apply(lambda x: colors[x]))\n",
    "plt.xlabel('SALES PRICE')\n",
    "plt.ylabel('SQFT')\n",
    "plt.show()"
   ]
  },
  {
   "cell_type": "code",
   "execution_count": 71,
   "metadata": {},
   "outputs": [
    {
     "data": {
      "image/png": "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\n",
      "text/plain": [
       "<Figure size 432x288 with 1 Axes>"
      ]
     },
     "metadata": {
      "needs_background": "light"
     },
     "output_type": "display_data"
    }
   ],
   "source": [
    "fig,ax=plt.subplots()\n",
    "colors={'AdjLand':'blue','AbNormal':'red','Partial':'black','Normal Sale':'pink','Family':'yellow'}\n",
    "ax.scatter(df['INT_SQFT'],df['SALES_PRICE'],c=df['SALE_COND'].apply(lambda x: colors[x]))\n",
    "plt.xlabel('SALES PRICE')\n",
    "plt.ylabel('SQFT')\n",
    "plt.show()"
   ]
  },
  {
   "cell_type": "code",
   "execution_count": 72,
   "metadata": {},
   "outputs": [
    {
     "data": {
      "image/png": "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
